{
 "cells": [
  {
   "cell_type": "markdown",
   "metadata": {},
   "source": [
    "# Automated ML\n",
    "\n",
    "TODO: Import Dependencies. In the cell below, import all the dependencies that you will need to complete the project."
   ]
  },
  {
   "cell_type": "code",
   "execution_count": 1,
   "metadata": {
    "jupyter": {
     "outputs_hidden": false,
     "source_hidden": false
    },
    "nteract": {
     "transient": {
      "deleting": false
     }
    }
   },
   "outputs": [
    {
     "name": "stdout",
     "output_type": "stream",
     "text": [
      "SDK version: 1.20.0\n"
     ]
    }
   ],
   "source": [
    "import os\n",
    "import time\n",
    "import joblib\n",
    "import requests\n",
    "from matplotlib import pyplot as plt\n",
    "from sklearn.model_selection import train_test_split\n",
    "from sklearn.metrics import mean_squared_error\n",
    "from azureml.widgets import RunDetails\n",
    "from azureml.core import Workspace, Experiment\n",
    "from azureml.core.model import Model, InferenceConfig\n",
    "from azureml.core.compute import ComputeTarget, AmlCompute\n",
    "from azureml.core.environment import Environment\n",
    "from azureml.core.authentication import InteractiveLoginAuthentication\n",
    "from azureml.core.webservice import AciWebservice\n",
    "from azureml.data.dataset_factory import TabularDatasetFactory\n",
    "from azureml.train.automl import AutoMLConfig\n",
    "\n",
    "print(\"SDK version:\", azureml.core.VERSION)"
   ]
  },
  {
   "cell_type": "code",
   "execution_count": 2,
   "metadata": {},
   "outputs": [
    {
     "data": {
      "text/plain": [
       "'2021-02-10 14:33:59'"
      ]
     },
     "execution_count": 2,
     "metadata": {},
     "output_type": "execute_result"
    }
   ],
   "source": [
    "time.strftime('%Y-%m-%d %H:%M:%S')"
   ]
  },
  {
   "cell_type": "code",
   "execution_count": 3,
   "metadata": {},
   "outputs": [
    {
     "name": "stdout",
     "output_type": "stream",
     "text": [
      "quick-starts-ws-138398\n",
      "aml-quickstarts-138398\n",
      "southcentralus\n",
      "1b944a9b-fdae-4f97-aeb1-b7eea0beac53\n"
     ]
    }
   ],
   "source": [
    "ws = Workspace.from_config()\n",
    "print(ws.name, ws.resource_group, ws.location, ws.subscription_id, sep = '\\n')"
   ]
  },
  {
   "cell_type": "markdown",
   "metadata": {},
   "source": [
    "Set up a compute instance to train the model."
   ]
  },
  {
   "cell_type": "code",
   "execution_count": 4,
   "metadata": {},
   "outputs": [],
   "source": [
    "compute_name = os.environ.get(\"AML_COMPUTE_CLUSTER_NAME\", \"auto-ml\")\n",
    "vm_size = os.environ.get(\"AML_COMPUTE_CLUSTER_SKU\", \"STANDARD_D2_V2\")\n",
    "compute_min_nodes = os.environ.get(\"AML_COMPUTE_CLUSTER_MIN_NODES\", 2)\n",
    "compute_max_nodes = os.environ.get(\"AML_COMPUTE_CLUSTER_MAX_NODES\", 4)\n",
    "\n",
    "compute_names = [cn for cn in ws.compute_targets if cn in [compute_name,'auto-ml','aml-compute']]\n",
    "\n",
    "if compute_names:\n",
    "    compute_target = ws.compute_targets[compute_names[0]]\n",
    "    if compute_target and type(compute_target) is AmlCompute:\n",
    "        print('Using existing compute target: ' + compute_names[0])\n",
    "else:\n",
    "    compute_config = AmlCompute.provisioning_configuration(\n",
    "        vm_size=vm_size,\n",
    "        min_nodes=compute_min_nodes,\n",
    "        max_nodes=compute_max_nodes\n",
    "    )\n",
    "    compute_target = ComputeTarget.create(ws, compute_name, compute_config)"
   ]
  },
  {
   "cell_type": "markdown",
   "metadata": {},
   "source": [
    "## Dataset\n",
    "\n",
    "### Overview\n",
    "We will be using the Wine Quality dataset made accessible [here](https://archive.ics.uci.edu/ml/datasets/wine+quality).\n",
    "\n",
    "The dataset contains the physicochemical properties of 1599 red wine samples. The data includes, in column order: `fixed acidity`, `volatile acidity`, `citric acid`, `residual sugar`, `chlorides`, `free sulfur dioxide`, `total sulfur dioxide`, `density`, `pH`, `sulphates`, `alcohol`, and the final column is the target variable, `quality` (score between 0 and 10).\n",
    "\n",
    "We will carry out an AutoML regression analysis on this dataset to predict the quality of a particular sample of wine from measured properties."
   ]
  },
  {
   "cell_type": "code",
   "execution_count": 5,
   "metadata": {},
   "outputs": [],
   "source": [
    "data_file_source = \"https://archive.ics.uci.edu/ml/machine-learning-databases/wine-quality/winequality-red.csv\"\n",
    "ds_data = TabularDatasetFactory.from_delimited_files(\n",
    "    path=data_file_source,\n",
    "    separator=';'\n",
    ")\n",
    "ds_data = ds_data.register(\n",
    "    workspace=ws,\n",
    "    name='wine_quality_data',\n",
    "    description='Wine Quality data from ' + data_file_source\n",
    ")\n",
    "df = ds_data.to_pandas_dataframe()\n",
    "x = df.drop(columns='quality')\n",
    "y = df['quality']"
   ]
  },
  {
   "cell_type": "markdown",
   "metadata": {},
   "source": [
    "Split the dataset into a training set and a test set, using 70% of the dataset for training."
   ]
  },
  {
   "cell_type": "code",
   "execution_count": 6,
   "metadata": {},
   "outputs": [
    {
     "name": "stdout",
     "output_type": "stream",
     "text": [
      "Uploading an estimated of 1 files\n",
      "Uploading df_train.csv\n",
      "Uploaded df_train.csv, 1 files out of an estimated total of 1\n",
      "Uploaded 1 files\n"
     ]
    }
   ],
   "source": [
    "x_train, x_test, y_train, y_test = train_test_split(x, y, train_size=0.7, random_state=42)\n",
    "datastore = ws.get_default_datastore()\n",
    "x_train.assign(target=y_train).to_csv('df_train.csv', index=False)\n",
    "datastore.upload_files(['df_train.csv'], overwrite=True)\n",
    "train_ds = TabularDatasetFactory.from_delimited_files((datastore, 'df_train.csv'))"
   ]
  },
  {
   "cell_type": "markdown",
   "metadata": {},
   "source": [
    "## AutoML Configuration\n",
    "\n",
    "TODO: Explain why you chose the automl settings and cofiguration you used below."
   ]
  },
  {
   "cell_type": "code",
   "execution_count": 7,
   "metadata": {
    "gather": {
     "logged": 1598423890461
    },
    "jupyter": {
     "outputs_hidden": false,
     "source_hidden": false
    },
    "nteract": {
     "transient": {
      "deleting": false
     }
    }
   },
   "outputs": [],
   "source": [
    "experiment_name = 'winequality-automl'\n",
    "project_folder = './winequality-automl-pipeline'\n",
    "experiment=Experiment(ws, experiment_name)"
   ]
  },
  {
   "cell_type": "markdown",
   "metadata": {},
   "source": [
    "Create AutoML settings object"
   ]
  },
  {
   "cell_type": "code",
   "execution_count": 8,
   "metadata": {},
   "outputs": [],
   "source": [
    "aml_regression_metrics = [\n",
    "    'spearman_correlation',\n",
    "    'normalized_root_mean_squared_error',\n",
    "    'r2_score',\n",
    "    'normalized_mean_absolute_error'\n",
    "]\n",
    "\n",
    "automl_settings = {\n",
    "    'experiment_timeout_minutes': 15,\n",
    "    'max_concurrent_iterations': 5,\n",
    "    'n_cross_validations': 5,\n",
    "    'primary_metric' : 'normalized_root_mean_squared_error'\n",
    "}\n",
    "automl_config = AutoMLConfig(\n",
    "    compute_target=compute_target,\n",
    "    task='regression',\n",
    "    training_data=train_ds,\n",
    "    label_column_name='target',\n",
    "    path=project_folder,\n",
    "    enable_early_stopping=True,\n",
    "    featurization='auto',\n",
    "    debug_log='automl_errors.log',\n",
    "    **automl_settings\n",
    ")"
   ]
  },
  {
   "cell_type": "markdown",
   "metadata": {},
   "source": [
    "Create pipeline and AutoMLStep"
   ]
  },
  {
   "cell_type": "code",
   "execution_count": 9,
   "metadata": {},
   "outputs": [
    {
     "name": "stdout",
     "output_type": "stream",
     "text": [
      "Creating\n",
      "Succeeded........................\n",
      "AmlCompute wait for completion finished\n",
      "\n",
      "Minimum number of nodes requested have been provisioned\n"
     ]
    }
   ],
   "source": [
    "compute_target.wait_for_completion(show_output=True)"
   ]
  },
  {
   "cell_type": "code",
   "execution_count": 10,
   "metadata": {},
   "outputs": [
    {
     "name": "stdout",
     "output_type": "stream",
     "text": [
      "Running on remote.\n"
     ]
    },
    {
     "data": {
      "text/html": [
       "<table style=\"width:100%\"><tr><th>Experiment</th><th>Id</th><th>Type</th><th>Status</th><th>Details Page</th><th>Docs Page</th></tr><tr><td>winequality-automl</td><td>AutoML_09d54a55-51c6-499f-a116-05e9e7189e72</td><td>automl</td><td>NotStarted</td><td><a href=\"https://ml.azure.com/experiments/winequality-automl/runs/AutoML_09d54a55-51c6-499f-a116-05e9e7189e72?wsid=/subscriptions/1b944a9b-fdae-4f97-aeb1-b7eea0beac53/resourcegroups/aml-quickstarts-138398/workspaces/quick-starts-ws-138398\" target=\"_blank\" rel=\"noopener\">Link to Azure Machine Learning studio</a></td><td><a href=\"https://docs.microsoft.com/en-us/python/api/overview/azure/ml/intro?view=azure-ml-py\" target=\"_blank\" rel=\"noopener\">Link to Documentation</a></td></tr></table>"
      ],
      "text/plain": [
       "Run(Experiment: winequality-automl,\n",
       "Id: AutoML_09d54a55-51c6-499f-a116-05e9e7189e72,\n",
       "Type: automl,\n",
       "Status: NotStarted)"
      ]
     },
     "execution_count": 10,
     "metadata": {},
     "output_type": "execute_result"
    }
   ],
   "source": [
    "automl_run = experiment.submit(config=automl_config)\n",
    "automl_run"
   ]
  },
  {
   "cell_type": "markdown",
   "metadata": {},
   "source": [
    "## Run Details"
   ]
  },
  {
   "cell_type": "code",
   "execution_count": 11,
   "metadata": {
    "gather": {
     "logged": 1598431121770
    },
    "jupyter": {
     "outputs_hidden": false,
     "source_hidden": false
    },
    "nteract": {
     "transient": {
      "deleting": false
     }
    },
    "scrolled": false
   },
   "outputs": [
    {
     "data": {
      "application/vnd.jupyter.widget-view+json": {
       "model_id": "b3515299428c43eb81c8aeb2910060a6",
       "version_major": 2,
       "version_minor": 0
      },
      "text/plain": [
       "_AutoMLWidget(widget_settings={'childWidgetDisplay': 'popup', 'send_telemetry': False, 'log_level': 'INFO', 's…"
      ]
     },
     "metadata": {},
     "output_type": "display_data"
    },
    {
     "data": {
      "application/aml.mini.widget.v1": "{\"status\": \"Completed\", \"workbench_run_details_uri\": \"https://ml.azure.com/experiments/winequality-automl/runs/AutoML_09d54a55-51c6-499f-a116-05e9e7189e72?wsid=/subscriptions/1b944a9b-fdae-4f97-aeb1-b7eea0beac53/resourcegroups/aml-quickstarts-138398/workspaces/quick-starts-ws-138398\", \"run_id\": \"AutoML_09d54a55-51c6-499f-a116-05e9e7189e72\", \"run_properties\": {\"run_id\": \"AutoML_09d54a55-51c6-499f-a116-05e9e7189e72\", \"created_utc\": \"2021-02-10T14:36:26.947075Z\", \"properties\": {\"num_iterations\": \"1000\", \"training_type\": \"TrainFull\", \"acquisition_function\": \"EI\", \"primary_metric\": \"normalized_root_mean_squared_error\", \"train_split\": \"0\", \"acquisition_parameter\": \"0\", \"num_cross_validation\": \"5\", \"target\": \"auto-ml\", \"AMLSettingsJsonString\": \"{\\\"path\\\":null,\\\"name\\\":\\\"winequality-automl\\\",\\\"subscription_id\\\":\\\"1b944a9b-fdae-4f97-aeb1-b7eea0beac53\\\",\\\"resource_group\\\":\\\"aml-quickstarts-138398\\\",\\\"workspace_name\\\":\\\"quick-starts-ws-138398\\\",\\\"region\\\":\\\"southcentralus\\\",\\\"compute_target\\\":\\\"auto-ml\\\",\\\"spark_service\\\":null,\\\"azure_service\\\":\\\"remote\\\",\\\"many_models\\\":false,\\\"pipeline_fetch_max_batch_size\\\":1,\\\"iterations\\\":1000,\\\"primary_metric\\\":\\\"normalized_root_mean_squared_error\\\",\\\"task_type\\\":\\\"regression\\\",\\\"data_script\\\":null,\\\"validation_size\\\":0.0,\\\"n_cross_validations\\\":5,\\\"y_min\\\":null,\\\"y_max\\\":null,\\\"num_classes\\\":null,\\\"featurization\\\":\\\"auto\\\",\\\"_ignore_package_version_incompatibilities\\\":false,\\\"is_timeseries\\\":false,\\\"max_cores_per_iteration\\\":1,\\\"max_concurrent_iterations\\\":5,\\\"iteration_timeout_minutes\\\":null,\\\"mem_in_mb\\\":null,\\\"enforce_time_on_windows\\\":false,\\\"experiment_timeout_minutes\\\":15,\\\"experiment_exit_score\\\":null,\\\"whitelist_models\\\":null,\\\"blacklist_algos\\\":[\\\"TensorFlowDNN\\\",\\\"TensorFlowLinearRegressor\\\"],\\\"supported_models\\\":[\\\"ExtremeRandomTrees\\\",\\\"ElasticNet\\\",\\\"DecisionTree\\\",\\\"LightGBM\\\",\\\"LassoLars\\\",\\\"KNN\\\",\\\"SGD\\\",\\\"OnlineGradientDescentRegressor\\\",\\\"TensorFlowLinearRegressor\\\",\\\"GradientBoosting\\\",\\\"TensorFlowDNN\\\",\\\"XGBoostRegressor\\\",\\\"FastLinearRegressor\\\",\\\"RandomForest\\\"],\\\"auto_blacklist\\\":true,\\\"blacklist_samples_reached\\\":false,\\\"exclude_nan_labels\\\":true,\\\"verbosity\\\":20,\\\"_debug_log\\\":\\\"azureml_automl.log\\\",\\\"show_warnings\\\":false,\\\"model_explainability\\\":true,\\\"service_url\\\":null,\\\"sdk_url\\\":null,\\\"sdk_packages\\\":null,\\\"enable_onnx_compatible_models\\\":false,\\\"enable_split_onnx_featurizer_estimator_models\\\":false,\\\"vm_type\\\":\\\"STANDARD_D2_V2\\\",\\\"telemetry_verbosity\\\":20,\\\"send_telemetry\\\":true,\\\"enable_dnn\\\":false,\\\"scenario\\\":\\\"SDK-1.13.0\\\",\\\"environment_label\\\":null,\\\"force_text_dnn\\\":false,\\\"enable_feature_sweeping\\\":true,\\\"enable_early_stopping\\\":true,\\\"early_stopping_n_iters\\\":10,\\\"metrics\\\":null,\\\"enable_ensembling\\\":true,\\\"enable_stack_ensembling\\\":true,\\\"ensemble_iterations\\\":15,\\\"enable_tf\\\":false,\\\"enable_subsampling\\\":null,\\\"subsample_seed\\\":null,\\\"enable_nimbusml\\\":false,\\\"enable_streaming\\\":false,\\\"force_streaming\\\":false,\\\"track_child_runs\\\":true,\\\"allowed_private_models\\\":[],\\\"label_column_name\\\":\\\"target\\\",\\\"weight_column_name\\\":null,\\\"cv_split_column_names\\\":null,\\\"enable_local_managed\\\":false,\\\"_local_managed_run_id\\\":null,\\\"cost_mode\\\":1,\\\"lag_length\\\":0,\\\"metric_operation\\\":\\\"minimize\\\",\\\"preprocess\\\":true}\", \"DataPrepJsonString\": \"{\\\\\\\"training_data\\\\\\\": \\\\\\\"{\\\\\\\\\\\\\\\"blocks\\\\\\\\\\\\\\\": [{\\\\\\\\\\\\\\\"id\\\\\\\\\\\\\\\": \\\\\\\\\\\\\\\"c4e856cd-98c9-44ed-89d6-20c8e03f8269\\\\\\\\\\\\\\\", \\\\\\\\\\\\\\\"type\\\\\\\\\\\\\\\": \\\\\\\\\\\\\\\"Microsoft.DPrep.GetDatastoreFilesBlock\\\\\\\\\\\\\\\", \\\\\\\\\\\\\\\"arguments\\\\\\\\\\\\\\\": {\\\\\\\\\\\\\\\"datastores\\\\\\\\\\\\\\\": [{\\\\\\\\\\\\\\\"datastoreName\\\\\\\\\\\\\\\": \\\\\\\\\\\\\\\"workspaceblobstore\\\\\\\\\\\\\\\", \\\\\\\\\\\\\\\"path\\\\\\\\\\\\\\\": \\\\\\\\\\\\\\\"df_train.csv\\\\\\\\\\\\\\\", \\\\\\\\\\\\\\\"resourceGroup\\\\\\\\\\\\\\\": \\\\\\\\\\\\\\\"aml-quickstarts-138398\\\\\\\\\\\\\\\", \\\\\\\\\\\\\\\"subscription\\\\\\\\\\\\\\\": \\\\\\\\\\\\\\\"1b944a9b-fdae-4f97-aeb1-b7eea0beac53\\\\\\\\\\\\\\\", \\\\\\\\\\\\\\\"workspaceName\\\\\\\\\\\\\\\": \\\\\\\\\\\\\\\"quick-starts-ws-138398\\\\\\\\\\\\\\\"}]}, \\\\\\\\\\\\\\\"localData\\\\\\\\\\\\\\\": {}, \\\\\\\\\\\\\\\"isEnabled\\\\\\\\\\\\\\\": true, \\\\\\\\\\\\\\\"name\\\\\\\\\\\\\\\": null, \\\\\\\\\\\\\\\"annotation\\\\\\\\\\\\\\\": null}, {\\\\\\\\\\\\\\\"id\\\\\\\\\\\\\\\": \\\\\\\\\\\\\\\"7af68e2e-9ba9-4e77-bbcb-798f60f85961\\\\\\\\\\\\\\\", \\\\\\\\\\\\\\\"type\\\\\\\\\\\\\\\": \\\\\\\\\\\\\\\"Microsoft.DPrep.ParseDelimitedBlock\\\\\\\\\\\\\\\", \\\\\\\\\\\\\\\"arguments\\\\\\\\\\\\\\\": {\\\\\\\\\\\\\\\"columnHeadersMode\\\\\\\\\\\\\\\": 3, \\\\\\\\\\\\\\\"fileEncoding\\\\\\\\\\\\\\\": 0, \\\\\\\\\\\\\\\"handleQuotedLineBreaks\\\\\\\\\\\\\\\": false, \\\\\\\\\\\\\\\"preview\\\\\\\\\\\\\\\": false, \\\\\\\\\\\\\\\"separator\\\\\\\\\\\\\\\": \\\\\\\\\\\\\\\",\\\\\\\\\\\\\\\", \\\\\\\\\\\\\\\"skipRows\\\\\\\\\\\\\\\": 0, \\\\\\\\\\\\\\\"skipRowsMode\\\\\\\\\\\\\\\": 0}, \\\\\\\\\\\\\\\"localData\\\\\\\\\\\\\\\": {}, \\\\\\\\\\\\\\\"isEnabled\\\\\\\\\\\\\\\": true, \\\\\\\\\\\\\\\"name\\\\\\\\\\\\\\\": null, \\\\\\\\\\\\\\\"annotation\\\\\\\\\\\\\\\": null}, {\\\\\\\\\\\\\\\"id\\\\\\\\\\\\\\\": \\\\\\\\\\\\\\\"22c6750c-c56e-42fc-86f0-bc23756a5e9f\\\\\\\\\\\\\\\", \\\\\\\\\\\\\\\"type\\\\\\\\\\\\\\\": \\\\\\\\\\\\\\\"Microsoft.DPrep.DropColumnsBlock\\\\\\\\\\\\\\\", \\\\\\\\\\\\\\\"arguments\\\\\\\\\\\\\\\": {\\\\\\\\\\\\\\\"columns\\\\\\\\\\\\\\\": {\\\\\\\\\\\\\\\"type\\\\\\\\\\\\\\\": 0, \\\\\\\\\\\\\\\"details\\\\\\\\\\\\\\\": {\\\\\\\\\\\\\\\"selectedColumns\\\\\\\\\\\\\\\": [\\\\\\\\\\\\\\\"Path\\\\\\\\\\\\\\\"]}}}, \\\\\\\\\\\\\\\"localData\\\\\\\\\\\\\\\": {}, \\\\\\\\\\\\\\\"isEnabled\\\\\\\\\\\\\\\": true, \\\\\\\\\\\\\\\"name\\\\\\\\\\\\\\\": null, \\\\\\\\\\\\\\\"annotation\\\\\\\\\\\\\\\": null}, {\\\\\\\\\\\\\\\"id\\\\\\\\\\\\\\\": \\\\\\\\\\\\\\\"3ee009af-6fae-4df3-be2f-445e64715706\\\\\\\\\\\\\\\", \\\\\\\\\\\\\\\"type\\\\\\\\\\\\\\\": \\\\\\\\\\\\\\\"Microsoft.DPrep.SetColumnTypesBlock\\\\\\\\\\\\\\\", \\\\\\\\\\\\\\\"arguments\\\\\\\\\\\\\\\": {\\\\\\\\\\\\\\\"columnConversion\\\\\\\\\\\\\\\": [{\\\\\\\\\\\\\\\"column\\\\\\\\\\\\\\\": {\\\\\\\\\\\\\\\"type\\\\\\\\\\\\\\\": 2, \\\\\\\\\\\\\\\"details\\\\\\\\\\\\\\\": {\\\\\\\\\\\\\\\"selectedColumn\\\\\\\\\\\\\\\": \\\\\\\\\\\\\\\"fixed acidity\\\\\\\\\\\\\\\"}}, \\\\\\\\\\\\\\\"typeProperty\\\\\\\\\\\\\\\": 3}, {\\\\\\\\\\\\\\\"column\\\\\\\\\\\\\\\": {\\\\\\\\\\\\\\\"type\\\\\\\\\\\\\\\": 2, \\\\\\\\\\\\\\\"details\\\\\\\\\\\\\\\": {\\\\\\\\\\\\\\\"selectedColumn\\\\\\\\\\\\\\\": \\\\\\\\\\\\\\\"volatile acidity\\\\\\\\\\\\\\\"}}, \\\\\\\\\\\\\\\"typeProperty\\\\\\\\\\\\\\\": 3}, {\\\\\\\\\\\\\\\"column\\\\\\\\\\\\\\\": {\\\\\\\\\\\\\\\"type\\\\\\\\\\\\\\\": 2, \\\\\\\\\\\\\\\"details\\\\\\\\\\\\\\\": {\\\\\\\\\\\\\\\"selectedColumn\\\\\\\\\\\\\\\": \\\\\\\\\\\\\\\"citric acid\\\\\\\\\\\\\\\"}}, \\\\\\\\\\\\\\\"typeProperty\\\\\\\\\\\\\\\": 3}, {\\\\\\\\\\\\\\\"column\\\\\\\\\\\\\\\": {\\\\\\\\\\\\\\\"type\\\\\\\\\\\\\\\": 2, \\\\\\\\\\\\\\\"details\\\\\\\\\\\\\\\": {\\\\\\\\\\\\\\\"selectedColumn\\\\\\\\\\\\\\\": \\\\\\\\\\\\\\\"residual sugar\\\\\\\\\\\\\\\"}}, \\\\\\\\\\\\\\\"typeProperty\\\\\\\\\\\\\\\": 3}, {\\\\\\\\\\\\\\\"column\\\\\\\\\\\\\\\": {\\\\\\\\\\\\\\\"type\\\\\\\\\\\\\\\": 2, \\\\\\\\\\\\\\\"details\\\\\\\\\\\\\\\": {\\\\\\\\\\\\\\\"selectedColumn\\\\\\\\\\\\\\\": \\\\\\\\\\\\\\\"chlorides\\\\\\\\\\\\\\\"}}, \\\\\\\\\\\\\\\"typeProperty\\\\\\\\\\\\\\\": 3}, {\\\\\\\\\\\\\\\"column\\\\\\\\\\\\\\\": {\\\\\\\\\\\\\\\"type\\\\\\\\\\\\\\\": 2, \\\\\\\\\\\\\\\"details\\\\\\\\\\\\\\\": {\\\\\\\\\\\\\\\"selectedColumn\\\\\\\\\\\\\\\": \\\\\\\\\\\\\\\"free sulfur dioxide\\\\\\\\\\\\\\\"}}, \\\\\\\\\\\\\\\"typeProperty\\\\\\\\\\\\\\\": 3}, {\\\\\\\\\\\\\\\"column\\\\\\\\\\\\\\\": {\\\\\\\\\\\\\\\"type\\\\\\\\\\\\\\\": 2, \\\\\\\\\\\\\\\"details\\\\\\\\\\\\\\\": {\\\\\\\\\\\\\\\"selectedColumn\\\\\\\\\\\\\\\": \\\\\\\\\\\\\\\"total sulfur dioxide\\\\\\\\\\\\\\\"}}, \\\\\\\\\\\\\\\"typeProperty\\\\\\\\\\\\\\\": 3}, {\\\\\\\\\\\\\\\"column\\\\\\\\\\\\\\\": {\\\\\\\\\\\\\\\"type\\\\\\\\\\\\\\\": 2, \\\\\\\\\\\\\\\"details\\\\\\\\\\\\\\\": {\\\\\\\\\\\\\\\"selectedColumn\\\\\\\\\\\\\\\": \\\\\\\\\\\\\\\"density\\\\\\\\\\\\\\\"}}, \\\\\\\\\\\\\\\"typeProperty\\\\\\\\\\\\\\\": 3}, {\\\\\\\\\\\\\\\"column\\\\\\\\\\\\\\\": {\\\\\\\\\\\\\\\"type\\\\\\\\\\\\\\\": 2, \\\\\\\\\\\\\\\"details\\\\\\\\\\\\\\\": {\\\\\\\\\\\\\\\"selectedColumn\\\\\\\\\\\\\\\": \\\\\\\\\\\\\\\"pH\\\\\\\\\\\\\\\"}}, \\\\\\\\\\\\\\\"typeProperty\\\\\\\\\\\\\\\": 3}, {\\\\\\\\\\\\\\\"column\\\\\\\\\\\\\\\": {\\\\\\\\\\\\\\\"type\\\\\\\\\\\\\\\": 2, \\\\\\\\\\\\\\\"details\\\\\\\\\\\\\\\": {\\\\\\\\\\\\\\\"selectedColumn\\\\\\\\\\\\\\\": \\\\\\\\\\\\\\\"sulphates\\\\\\\\\\\\\\\"}}, \\\\\\\\\\\\\\\"typeProperty\\\\\\\\\\\\\\\": 3}, {\\\\\\\\\\\\\\\"column\\\\\\\\\\\\\\\": {\\\\\\\\\\\\\\\"type\\\\\\\\\\\\\\\": 2, \\\\\\\\\\\\\\\"details\\\\\\\\\\\\\\\": {\\\\\\\\\\\\\\\"selectedColumn\\\\\\\\\\\\\\\": \\\\\\\\\\\\\\\"alcohol\\\\\\\\\\\\\\\"}}, \\\\\\\\\\\\\\\"typeProperty\\\\\\\\\\\\\\\": 3}, {\\\\\\\\\\\\\\\"column\\\\\\\\\\\\\\\": {\\\\\\\\\\\\\\\"type\\\\\\\\\\\\\\\": 2, \\\\\\\\\\\\\\\"details\\\\\\\\\\\\\\\": {\\\\\\\\\\\\\\\"selectedColumn\\\\\\\\\\\\\\\": \\\\\\\\\\\\\\\"target\\\\\\\\\\\\\\\"}}, \\\\\\\\\\\\\\\"typeProperty\\\\\\\\\\\\\\\": 2}]}, \\\\\\\\\\\\\\\"localData\\\\\\\\\\\\\\\": {}, \\\\\\\\\\\\\\\"isEnabled\\\\\\\\\\\\\\\": true, \\\\\\\\\\\\\\\"name\\\\\\\\\\\\\\\": null, \\\\\\\\\\\\\\\"annotation\\\\\\\\\\\\\\\": null}], \\\\\\\\\\\\\\\"inspectors\\\\\\\\\\\\\\\": [], \\\\\\\\\\\\\\\"meta\\\\\\\\\\\\\\\": {\\\\\\\\\\\\\\\"savedDatasetId\\\\\\\\\\\\\\\": \\\\\\\\\\\\\\\"242fd539-a946-4bae-be61-7ac8ccdf0169\\\\\\\\\\\\\\\", \\\\\\\\\\\\\\\"datasetType\\\\\\\\\\\\\\\": \\\\\\\\\\\\\\\"tabular\\\\\\\\\\\\\\\", \\\\\\\\\\\\\\\"subscriptionId\\\\\\\\\\\\\\\": \\\\\\\\\\\\\\\"1b944a9b-fdae-4f97-aeb1-b7eea0beac53\\\\\\\\\\\\\\\", \\\\\\\\\\\\\\\"workspaceId\\\\\\\\\\\\\\\": \\\\\\\\\\\\\\\"a064dfc8-3ed1-42fd-a27c-2c0d6e5664ef\\\\\\\\\\\\\\\", \\\\\\\\\\\\\\\"workspaceLocation\\\\\\\\\\\\\\\": \\\\\\\\\\\\\\\"southcentralus\\\\\\\\\\\\\\\"}}\\\\\\\", \\\\\\\"activities\\\\\\\": 0}\", \"EnableSubsampling\": null, \"runTemplate\": \"AutoML\", \"azureml.runsource\": \"automl\", \"display_task_type\": \"regression\", \"dependencies_versions\": \"{\\\"azureml-widgets\\\": \\\"1.20.0\\\", \\\"azureml-train\\\": \\\"1.20.0\\\", \\\"azureml-train-restclients-hyperdrive\\\": \\\"1.20.0\\\", \\\"azureml-train-core\\\": \\\"1.20.0\\\", \\\"azureml-train-automl\\\": \\\"1.20.0\\\", \\\"azureml-train-automl-runtime\\\": \\\"1.20.0\\\", \\\"azureml-train-automl-client\\\": \\\"1.20.0\\\", \\\"azureml-tensorboard\\\": \\\"1.20.0\\\", \\\"azureml-telemetry\\\": \\\"1.20.0\\\", \\\"azureml-sdk\\\": \\\"1.20.0\\\", \\\"azureml-samples\\\": \\\"0+unknown\\\", \\\"azureml-pipeline\\\": \\\"1.20.0\\\", \\\"azureml-pipeline-steps\\\": \\\"1.20.0\\\", \\\"azureml-pipeline-core\\\": \\\"1.20.0\\\", \\\"azureml-opendatasets\\\": \\\"1.20.0\\\", \\\"azureml-model-management-sdk\\\": \\\"1.0.1b6.post1\\\", \\\"azureml-mlflow\\\": \\\"1.20.0.post1\\\", \\\"azureml-interpret\\\": \\\"1.20.0\\\", \\\"azureml-explain-model\\\": \\\"1.20.0\\\", \\\"azureml-defaults\\\": \\\"1.20.0\\\", \\\"azureml-dataset-runtime\\\": \\\"1.20.0\\\", \\\"azureml-dataprep\\\": \\\"2.7.3\\\", \\\"azureml-dataprep-rslex\\\": \\\"1.5.0\\\", \\\"azureml-dataprep-native\\\": \\\"27.0.0\\\", \\\"azureml-datadrift\\\": \\\"1.20.0\\\", \\\"azureml-core\\\": \\\"1.20.0\\\", \\\"azureml-contrib-services\\\": \\\"1.20.0\\\", \\\"azureml-contrib-server\\\": \\\"1.20.0\\\", \\\"azureml-contrib-reinforcementlearning\\\": \\\"1.20.0\\\", \\\"azureml-contrib-pipeline-steps\\\": \\\"1.20.0\\\", \\\"azureml-contrib-notebook\\\": \\\"1.20.0\\\", \\\"azureml-contrib-interpret\\\": \\\"1.20.0\\\", \\\"azureml-contrib-gbdt\\\": \\\"1.20.0\\\", \\\"azureml-contrib-fairness\\\": \\\"1.20.0\\\", \\\"azureml-contrib-dataset\\\": \\\"1.20.0\\\", \\\"azureml-cli-common\\\": \\\"1.20.0\\\", \\\"azureml-automl-runtime\\\": \\\"1.20.0\\\", \\\"azureml-automl-core\\\": \\\"1.20.0\\\", \\\"azureml-accel-models\\\": \\\"1.20.0\\\"}\", \"_aml_system_scenario_identification\": \"Remote.Parent\", \"ClientType\": \"SDK\", \"environment_cpu_name\": \"AzureML-AutoML\", \"environment_cpu_label\": \"prod\", \"environment_gpu_name\": \"AzureML-AutoML-GPU\", \"environment_gpu_label\": \"prod\", \"root_attribution\": \"automl\", \"attribution\": \"AutoML\", \"Orchestrator\": \"AutoML\", \"CancelUri\": \"https://southcentralus.experiments.azureml.net/jasmine/v1.0/subscriptions/1b944a9b-fdae-4f97-aeb1-b7eea0beac53/resourceGroups/aml-quickstarts-138398/providers/Microsoft.MachineLearningServices/workspaces/quick-starts-ws-138398/experimentids/ea4af114-a339-492e-85c2-79c5112bce33/cancel/AutoML_09d54a55-51c6-499f-a116-05e9e7189e72\", \"ClientSdkVersion\": \"1.21.0\", \"snapshotId\": \"00000000-0000-0000-0000-000000000000\", \"SetupRunId\": \"AutoML_09d54a55-51c6-499f-a116-05e9e7189e72_setup\", \"SetupRunContainerId\": \"dcid.AutoML_09d54a55-51c6-499f-a116-05e9e7189e72_setup\", \"FeaturizationRunJsonPath\": \"featurizer_container.json\", \"FeaturizationRunId\": \"AutoML_09d54a55-51c6-499f-a116-05e9e7189e72_featurize\", \"ProblemInfoJsonString\": \"{\\\"dataset_num_categorical\\\": 0, \\\"is_sparse\\\": false, \\\"subsampling\\\": false, \\\"dataset_classes\\\": 6, \\\"dataset_features\\\": 11, \\\"dataset_samples\\\": 1119, \\\"single_frequency_class_detected\\\": false}\", \"ModelExplainRunId\": \"AutoML_09d54a55-51c6-499f-a116-05e9e7189e72_ModelExplain\"}, \"tags\": {\"model_explain_run\": \"best_run\", \"_aml_system_azureml.automlComponent\": \"AutoML\", \"pipeline_id\": \"\", \"score\": \"\", \"predicted_cost\": \"\", \"fit_time\": \"\", \"training_percent\": \"\", \"iteration\": \"\", \"run_preprocessor\": \"\", \"run_algorithm\": \"\", \"dynamic_whitelisting_iterations\": \"<25>;<30>;<35>;\", \"automl_best_child_run_id\": \"AutoML_09d54a55-51c6-499f-a116-05e9e7189e72_38\"}, \"end_time_utc\": \"2021-02-10T14:59:56.430023Z\", \"status\": \"Completed\", \"log_files\": {}, \"log_groups\": [], \"run_duration\": \"0:23:29\"}, \"child_runs\": [{\"run_id\": \"AutoML_09d54a55-51c6-499f-a116-05e9e7189e72_0\", \"run_number\": 5, \"metric\": null, \"status\": \"Completed\", \"run_type\": \"azureml.scriptrun\", \"training_percent\": \"100\", \"start_time\": \"2021-02-10T14:44:30.793328Z\", \"end_time\": \"2021-02-10T14:45:29.095061Z\", \"created_time\": \"2021-02-10T14:43:38.370221Z\", \"created_time_dt\": \"2021-02-10T14:43:38.370221Z\", \"duration\": \"0:01:50\", \"iteration\": \"0\", \"goal\": \"normalized_root_mean_squared_error_min\", \"run_name\": \"MaxAbsScaler, LightGBM\", \"run_properties\": \"copy=True\", \"primary_metric\": 0.12360182, \"best_metric\": 0.12360182}, {\"run_id\": \"AutoML_09d54a55-51c6-499f-a116-05e9e7189e72_1\", \"run_number\": 6, \"metric\": null, \"status\": \"Completed\", \"run_type\": \"azureml.scriptrun\", \"training_percent\": \"100\", \"start_time\": \"2021-02-10T14:44:55.480591Z\", \"end_time\": \"2021-02-10T14:45:45.185256Z\", \"created_time\": \"2021-02-10T14:43:38.492877Z\", \"created_time_dt\": \"2021-02-10T14:43:38.492877Z\", \"duration\": \"0:02:06\", \"iteration\": \"1\", \"goal\": \"normalized_root_mean_squared_error_min\", \"run_name\": \"MaxAbsScaler, XGBoostRegressor\", \"run_properties\": \"copy=True\", \"primary_metric\": 0.12670545, \"best_metric\": 0.12360182}, {\"run_id\": \"AutoML_09d54a55-51c6-499f-a116-05e9e7189e72_2\", \"run_number\": 7, \"metric\": null, \"status\": \"Completed\", \"run_type\": \"azureml.scriptrun\", \"training_percent\": \"100\", \"start_time\": \"2021-02-10T14:43:52.751027Z\", \"end_time\": \"2021-02-10T14:46:37.160398Z\", \"created_time\": \"2021-02-10T14:43:38.516013Z\", \"created_time_dt\": \"2021-02-10T14:43:38.516013Z\", \"duration\": \"0:02:58\", \"iteration\": \"2\", \"goal\": \"normalized_root_mean_squared_error_min\", \"run_name\": \"RobustScaler, LassoLars\", \"run_properties\": \"copy=True, quantile_range=[10, 90], with_centering=False,\\n             with_scaling=True\", \"primary_metric\": 0.13159522, \"best_metric\": 0.12360182}, {\"run_id\": \"AutoML_09d54a55-51c6-499f-a116-05e9e7189e72_3\", \"run_number\": 8, \"metric\": null, \"status\": \"Completed\", \"run_type\": \"azureml.scriptrun\", \"training_percent\": \"100\", \"start_time\": \"2021-02-10T14:43:53.387357Z\", \"end_time\": \"2021-02-10T14:44:48.429932Z\", \"created_time\": \"2021-02-10T14:43:38.53869Z\", \"created_time_dt\": \"2021-02-10T14:43:38.53869Z\", \"duration\": \"0:01:09\", \"iteration\": \"3\", \"goal\": \"normalized_root_mean_squared_error_min\", \"run_name\": \"RobustScaler, DecisionTree\", \"run_properties\": \"copy=True, quantile_range=[10, 90], with_centering=True,\\n             with_scaling=False\", \"primary_metric\": 0.14122219, \"best_metric\": 0.12360182}, {\"run_id\": \"AutoML_09d54a55-51c6-499f-a116-05e9e7189e72_4\", \"run_number\": 9, \"metric\": null, \"status\": \"Completed\", \"run_type\": \"azureml.scriptrun\", \"training_percent\": \"100\", \"start_time\": \"2021-02-10T14:43:52.19712Z\", \"end_time\": \"2021-02-10T14:46:34.824824Z\", \"created_time\": \"2021-02-10T14:43:38.550712Z\", \"created_time_dt\": \"2021-02-10T14:43:38.550712Z\", \"duration\": \"0:02:56\", \"iteration\": \"4\", \"goal\": \"normalized_root_mean_squared_error_min\", \"run_name\": \"StandardScalerWrapper, DecisionTree\", \"run_properties\": \"<azureml.automl.runtime.shared.model_wrappers.StandardScalerWrapper object at 0x7f4133b2f7b8\", \"primary_metric\": 0.13445249, \"best_metric\": 0.12360182}, {\"run_id\": \"AutoML_09d54a55-51c6-499f-a116-05e9e7189e72_5\", \"run_number\": 10, \"metric\": null, \"status\": \"Completed\", \"run_type\": \"azureml.scriptrun\", \"training_percent\": \"100\", \"start_time\": \"2021-02-10T14:46:42.818679Z\", \"end_time\": \"2021-02-10T14:47:36.900682Z\", \"created_time\": \"2021-02-10T14:44:51.735902Z\", \"created_time_dt\": \"2021-02-10T14:44:51.735902Z\", \"duration\": \"0:02:45\", \"iteration\": \"5\", \"goal\": \"normalized_root_mean_squared_error_min\", \"run_name\": \"RobustScaler, DecisionTree\", \"run_properties\": \"copy=True, quantile_range=[10, 90], with_centering=False,\\n             with_scaling=True\", \"primary_metric\": 0.13964774, \"best_metric\": 0.12360182}, {\"run_id\": \"AutoML_09d54a55-51c6-499f-a116-05e9e7189e72_6\", \"run_number\": 11, \"metric\": null, \"status\": \"Completed\", \"run_type\": \"azureml.scriptrun\", \"training_percent\": \"100\", \"start_time\": \"2021-02-10T14:46:53.940374Z\", \"end_time\": \"2021-02-10T14:47:49.457221Z\", \"created_time\": \"2021-02-10T14:45:32.295114Z\", \"created_time_dt\": \"2021-02-10T14:45:32.295114Z\", \"duration\": \"0:02:17\", \"iteration\": \"6\", \"goal\": \"normalized_root_mean_squared_error_min\", \"run_name\": \"StandardScalerWrapper, ElasticNet\", \"run_properties\": \"<azureml.automl.runtime.shared.model_wrappers.StandardScalerWrapper object at 0x7fb53196f5f8\", \"primary_metric\": 0.1320616, \"best_metric\": 0.12360182}, {\"run_id\": \"AutoML_09d54a55-51c6-499f-a116-05e9e7189e72_7\", \"run_number\": 12, \"metric\": null, \"status\": \"Completed\", \"run_type\": \"azureml.scriptrun\", \"training_percent\": \"100\", \"start_time\": \"2021-02-10T14:47:40.295787Z\", \"end_time\": \"2021-02-10T14:48:34.556548Z\", \"created_time\": \"2021-02-10T14:45:48.606994Z\", \"created_time_dt\": \"2021-02-10T14:45:48.606994Z\", \"duration\": \"0:02:45\", \"iteration\": \"7\", \"goal\": \"normalized_root_mean_squared_error_min\", \"run_name\": \"MinMaxScaler, DecisionTree\", \"run_properties\": \"copy=True, feature_range=(0, 1\", \"primary_metric\": 0.13310658, \"best_metric\": 0.12360182}, {\"run_id\": \"AutoML_09d54a55-51c6-499f-a116-05e9e7189e72_8\", \"run_number\": 13, \"metric\": null, \"status\": \"Completed\", \"run_type\": \"azureml.scriptrun\", \"training_percent\": \"100\", \"start_time\": \"2021-02-10T14:47:48.266698Z\", \"end_time\": \"2021-02-10T14:48:36.773972Z\", \"created_time\": \"2021-02-10T14:46:38.661782Z\", \"created_time_dt\": \"2021-02-10T14:46:38.661782Z\", \"duration\": \"0:01:58\", \"iteration\": \"8\", \"goal\": \"normalized_root_mean_squared_error_min\", \"run_name\": \"MinMaxScaler, ElasticNet\", \"run_properties\": \"copy=True, feature_range=(0, 1\", \"primary_metric\": 0.13154668, \"best_metric\": 0.12360182}, {\"run_id\": \"AutoML_09d54a55-51c6-499f-a116-05e9e7189e72_9\", \"run_number\": 14, \"metric\": null, \"status\": \"Completed\", \"run_type\": \"azureml.scriptrun\", \"training_percent\": \"100\", \"start_time\": \"2021-02-10T14:47:51.320331Z\", \"end_time\": \"2021-02-10T14:48:47.696623Z\", \"created_time\": \"2021-02-10T14:46:43.430329Z\", \"created_time_dt\": \"2021-02-10T14:46:43.430329Z\", \"duration\": \"0:02:04\", \"iteration\": \"9\", \"goal\": \"normalized_root_mean_squared_error_min\", \"run_name\": \"StandardScalerWrapper, DecisionTree\", \"run_properties\": \"<azureml.automl.runtime.shared.model_wrappers.StandardScalerWrapper object at 0x7f8646dd6438\", \"primary_metric\": 0.13409404, \"best_metric\": 0.12360182}, {\"run_id\": \"AutoML_09d54a55-51c6-499f-a116-05e9e7189e72_10\", \"run_number\": 15, \"metric\": null, \"status\": \"Completed\", \"run_type\": \"azureml.scriptrun\", \"training_percent\": \"100\", \"start_time\": \"2021-02-10T14:48:38.688269Z\", \"end_time\": \"2021-02-10T14:49:39.852674Z\", \"created_time\": \"2021-02-10T14:47:40.530746Z\", \"created_time_dt\": \"2021-02-10T14:47:40.530746Z\", \"duration\": \"0:01:59\", \"iteration\": \"10\", \"goal\": \"normalized_root_mean_squared_error_min\", \"run_name\": \"StandardScalerWrapper, DecisionTree\", \"run_properties\": \"<azureml.automl.runtime.shared.model_wrappers.StandardScalerWrapper object at 0x7f607a0e3668\", \"primary_metric\": 0.1391421, \"best_metric\": 0.12360182}, {\"run_id\": \"AutoML_09d54a55-51c6-499f-a116-05e9e7189e72_11\", \"run_number\": 16, \"metric\": null, \"status\": \"Completed\", \"run_type\": \"azureml.scriptrun\", \"training_percent\": \"100\", \"start_time\": \"2021-02-10T14:48:51.08229Z\", \"end_time\": \"2021-02-10T14:49:48.80082Z\", \"created_time\": \"2021-02-10T14:47:53.04554Z\", \"created_time_dt\": \"2021-02-10T14:47:53.04554Z\", \"duration\": \"0:01:55\", \"iteration\": \"11\", \"goal\": \"normalized_root_mean_squared_error_min\", \"run_name\": \"RobustScaler, DecisionTree\", \"run_properties\": \"copy=True, quantile_range=[10, 90], with_centering=True,\\n             with_scaling=False\", \"primary_metric\": 0.13990101, \"best_metric\": 0.12360182}, {\"run_id\": \"AutoML_09d54a55-51c6-499f-a116-05e9e7189e72_12\", \"run_number\": 17, \"metric\": null, \"status\": \"Completed\", \"run_type\": \"azureml.scriptrun\", \"training_percent\": \"100\", \"start_time\": \"2021-02-10T14:49:42.906859Z\", \"end_time\": \"2021-02-10T14:50:45.10339Z\", \"created_time\": \"2021-02-10T14:48:39.227934Z\", \"created_time_dt\": \"2021-02-10T14:48:39.227934Z\", \"duration\": \"0:02:05\", \"iteration\": \"12\", \"goal\": \"normalized_root_mean_squared_error_min\", \"run_name\": \"RobustScaler, ElasticNet\", \"run_properties\": \"copy=True, quantile_range=[25, 75], with_centering=True,\\n             with_scaling=False\", \"primary_metric\": 0.13165374, \"best_metric\": 0.12360182}, {\"run_id\": \"AutoML_09d54a55-51c6-499f-a116-05e9e7189e72_13\", \"run_number\": 18, \"metric\": null, \"status\": \"Completed\", \"run_type\": \"azureml.scriptrun\", \"training_percent\": \"100\", \"start_time\": \"2021-02-10T14:49:53.016446Z\", \"end_time\": \"2021-02-10T14:50:44.035016Z\", \"created_time\": \"2021-02-10T14:48:47.133737Z\", \"created_time_dt\": \"2021-02-10T14:48:47.133737Z\", \"duration\": \"0:01:56\", \"iteration\": \"13\", \"goal\": \"normalized_root_mean_squared_error_min\", \"run_name\": \"RobustScaler, DecisionTree\", \"run_properties\": \"copy=True, quantile_range=[10, 90], with_centering=False,\\n             with_scaling=False\", \"primary_metric\": 0.13620769, \"best_metric\": 0.12360182}, {\"run_id\": \"AutoML_09d54a55-51c6-499f-a116-05e9e7189e72_14\", \"run_number\": 19, \"metric\": null, \"status\": \"Completed\", \"run_type\": \"azureml.scriptrun\", \"training_percent\": \"100\", \"start_time\": \"2021-02-10T14:49:58.615529Z\", \"end_time\": \"2021-02-10T14:50:57.112318Z\", \"created_time\": \"2021-02-10T14:48:54.607174Z\", \"created_time_dt\": \"2021-02-10T14:48:54.607174Z\", \"duration\": \"0:02:02\", \"iteration\": \"14\", \"goal\": \"normalized_root_mean_squared_error_min\", \"run_name\": \"RobustScaler, DecisionTree\", \"run_properties\": \"copy=True, quantile_range=[10, 90], with_centering=False,\\n             with_scaling=False\", \"primary_metric\": 0.13401316, \"best_metric\": 0.12360182}, {\"run_id\": \"AutoML_09d54a55-51c6-499f-a116-05e9e7189e72_15\", \"run_number\": 20, \"metric\": null, \"status\": \"Completed\", \"run_type\": \"azureml.scriptrun\", \"training_percent\": \"100\", \"start_time\": \"2021-02-10T14:50:46.640223Z\", \"end_time\": \"2021-02-10T14:51:44.382206Z\", \"created_time\": \"2021-02-10T14:49:43.529971Z\", \"created_time_dt\": \"2021-02-10T14:49:43.529971Z\", \"duration\": \"0:02:00\", \"iteration\": \"15\", \"goal\": \"normalized_root_mean_squared_error_min\", \"run_name\": \"StandardScalerWrapper, DecisionTree\", \"run_properties\": \"<azureml.automl.runtime.shared.model_wrappers.StandardScalerWrapper object at 0x7efeb9bade10\", \"primary_metric\": 0.13924705, \"best_metric\": 0.12360182}, {\"run_id\": \"AutoML_09d54a55-51c6-499f-a116-05e9e7189e72_16\", \"run_number\": 21, \"metric\": null, \"status\": \"Completed\", \"run_type\": \"azureml.scriptrun\", \"training_percent\": \"100\", \"start_time\": \"2021-02-10T14:50:46.41117Z\", \"end_time\": \"2021-02-10T14:51:37.545942Z\", \"created_time\": \"2021-02-10T14:49:52.660982Z\", \"created_time_dt\": \"2021-02-10T14:49:52.660982Z\", \"duration\": \"0:01:44\", \"iteration\": \"16\", \"goal\": \"normalized_root_mean_squared_error_min\", \"run_name\": \"MinMaxScaler, DecisionTree\", \"run_properties\": \"copy=True, feature_range=(0, 1\", \"primary_metric\": 0.13623482, \"best_metric\": 0.12360182}, {\"run_id\": \"AutoML_09d54a55-51c6-499f-a116-05e9e7189e72_17\", \"run_number\": 22, \"metric\": null, \"status\": \"Completed\", \"run_type\": \"azureml.scriptrun\", \"training_percent\": \"100\", \"start_time\": \"2021-02-10T14:51:39.927096Z\", \"end_time\": \"2021-02-10T14:52:35.067472Z\", \"created_time\": \"2021-02-10T14:50:47.136414Z\", \"created_time_dt\": \"2021-02-10T14:50:47.136414Z\", \"duration\": \"0:01:47\", \"iteration\": \"17\", \"goal\": \"normalized_root_mean_squared_error_min\", \"run_name\": \"MinMaxScaler, DecisionTree\", \"run_properties\": \"copy=True, feature_range=(0, 1\", \"primary_metric\": 0.14069882, \"best_metric\": 0.12360182}, {\"run_id\": \"AutoML_09d54a55-51c6-499f-a116-05e9e7189e72_18\", \"run_number\": 23, \"metric\": null, \"status\": \"Completed\", \"run_type\": \"azureml.scriptrun\", \"training_percent\": \"100\", \"start_time\": \"2021-02-10T14:51:48.761932Z\", \"end_time\": \"2021-02-10T14:52:40.427637Z\", \"created_time\": \"2021-02-10T14:50:52.459545Z\", \"created_time_dt\": \"2021-02-10T14:50:52.459545Z\", \"duration\": \"0:01:47\", \"iteration\": \"18\", \"goal\": \"normalized_root_mean_squared_error_min\", \"run_name\": \"RobustScaler, DecisionTree\", \"run_properties\": \"copy=True, quantile_range=[25, 75], with_centering=True,\\n             with_scaling=False\", \"primary_metric\": 0.13445281, \"best_metric\": 0.12360182}, {\"run_id\": \"AutoML_09d54a55-51c6-499f-a116-05e9e7189e72_19\", \"run_number\": 24, \"metric\": null, \"status\": \"Completed\", \"run_type\": \"azureml.scriptrun\", \"training_percent\": \"100\", \"start_time\": \"2021-02-10T14:52:04.749884Z\", \"end_time\": \"2021-02-10T14:52:58.802168Z\", \"created_time\": \"2021-02-10T14:51:01.147295Z\", \"created_time_dt\": \"2021-02-10T14:51:01.147295Z\", \"duration\": \"0:01:57\", \"iteration\": \"19\", \"goal\": \"normalized_root_mean_squared_error_min\", \"run_name\": \"StandardScalerWrapper, DecisionTree\", \"run_properties\": \"<azureml.automl.runtime.shared.model_wrappers.StandardScalerWrapper object at 0x7f0ef09a8860\", \"primary_metric\": 0.13462554, \"best_metric\": 0.12360182}, {\"run_id\": \"AutoML_09d54a55-51c6-499f-a116-05e9e7189e72_20\", \"run_number\": 25, \"metric\": null, \"status\": \"Completed\", \"run_type\": \"azureml.scriptrun\", \"training_percent\": \"100\", \"start_time\": \"2021-02-10T14:52:42.124669Z\", \"end_time\": \"2021-02-10T14:53:40.137226Z\", \"created_time\": \"2021-02-10T14:51:40.846704Z\", \"created_time_dt\": \"2021-02-10T14:51:40.846704Z\", \"duration\": \"0:01:59\", \"iteration\": \"20\", \"goal\": \"normalized_root_mean_squared_error_min\", \"run_name\": \"MinMaxScaler, DecisionTree\", \"run_properties\": \"copy=True, feature_range=(0, 1\", \"primary_metric\": 0.13676893, \"best_metric\": 0.12360182}, {\"run_id\": \"AutoML_09d54a55-51c6-499f-a116-05e9e7189e72_21\", \"run_number\": 26, \"metric\": null, \"status\": \"Completed\", \"run_type\": \"azureml.scriptrun\", \"training_percent\": \"100\", \"start_time\": \"2021-02-10T14:52:53.517136Z\", \"end_time\": \"2021-02-10T14:53:45.480569Z\", \"created_time\": \"2021-02-10T14:51:48.247424Z\", \"created_time_dt\": \"2021-02-10T14:51:48.247424Z\", \"duration\": \"0:01:57\", \"iteration\": \"21\", \"goal\": \"normalized_root_mean_squared_error_min\", \"run_name\": \"StandardScalerWrapper, LassoLars\", \"run_properties\": \"<azureml.automl.runtime.shared.model_wrappers.StandardScalerWrapper object at 0x7f270c0fa550\", \"primary_metric\": 0.13159686, \"best_metric\": 0.12360182}, {\"run_id\": \"AutoML_09d54a55-51c6-499f-a116-05e9e7189e72_22\", \"run_number\": 27, \"metric\": null, \"status\": \"Completed\", \"run_type\": \"azureml.scriptrun\", \"training_percent\": \"100\", \"start_time\": \"2021-02-10T14:53:43.617648Z\", \"end_time\": \"2021-02-10T14:54:33.957771Z\", \"created_time\": \"2021-02-10T14:52:38.425002Z\", \"created_time_dt\": \"2021-02-10T14:52:38.425002Z\", \"duration\": \"0:01:55\", \"iteration\": \"22\", \"goal\": \"normalized_root_mean_squared_error_min\", \"run_name\": \"MinMaxScaler, DecisionTree\", \"run_properties\": \"copy=True, feature_range=(0, 1\", \"primary_metric\": 0.13809768, \"best_metric\": 0.12360182}, {\"run_id\": \"AutoML_09d54a55-51c6-499f-a116-05e9e7189e72_23\", \"run_number\": 28, \"metric\": null, \"status\": \"Completed\", \"run_type\": \"azureml.scriptrun\", \"training_percent\": \"100\", \"start_time\": \"2021-02-10T14:53:49.591743Z\", \"end_time\": \"2021-02-10T14:54:40.610633Z\", \"created_time\": \"2021-02-10T14:52:44.653807Z\", \"created_time_dt\": \"2021-02-10T14:52:44.653807Z\", \"duration\": \"0:01:55\", \"iteration\": \"23\", \"goal\": \"normalized_root_mean_squared_error_min\", \"run_name\": \"StandardScalerWrapper, DecisionTree\", \"run_properties\": \"<azureml.automl.runtime.shared.model_wrappers.StandardScalerWrapper object at 0x7f21a857d940\", \"primary_metric\": 0.13892392, \"best_metric\": 0.12360182}, {\"run_id\": \"AutoML_09d54a55-51c6-499f-a116-05e9e7189e72_24\", \"run_number\": 29, \"metric\": null, \"status\": \"Completed\", \"run_type\": \"azureml.scriptrun\", \"training_percent\": \"100\", \"start_time\": \"2021-02-10T14:54:02.255383Z\", \"end_time\": \"2021-02-10T14:55:14.966462Z\", \"created_time\": \"2021-02-10T14:53:02.128167Z\", \"created_time_dt\": \"2021-02-10T14:53:02.128167Z\", \"duration\": \"0:02:12\", \"iteration\": \"24\", \"goal\": \"normalized_root_mean_squared_error_min\", \"run_name\": \"StandardScalerWrapper, RandomForest\", \"run_properties\": \"<azureml.automl.runtime.shared.model_wrappers.StandardScalerWrapper object at 0x7f4965c38470\", \"primary_metric\": 0.12876285, \"best_metric\": 0.12360182}, {\"run_id\": \"AutoML_09d54a55-51c6-499f-a116-05e9e7189e72_25\", \"run_number\": 30, \"metric\": null, \"status\": \"Completed\", \"run_type\": \"azureml.scriptrun\", \"training_percent\": \"100\", \"start_time\": \"2021-02-10T14:54:43.400325Z\", \"end_time\": \"2021-02-10T14:55:39.199823Z\", \"created_time\": \"2021-02-10T14:53:43.572971Z\", \"created_time_dt\": \"2021-02-10T14:53:43.572971Z\", \"duration\": \"0:01:55\", \"iteration\": \"25\", \"goal\": \"normalized_root_mean_squared_error_min\", \"run_name\": \"PCA, LightGBM\", \"run_properties\": \"copy=True, iterated_power='auto', n_components=0.01, random_state=None,\\n    svd_solver='auto', tol=0.0, whiten=True\", \"primary_metric\": 0.15954157, \"best_metric\": 0.12360182}, {\"run_id\": \"AutoML_09d54a55-51c6-499f-a116-05e9e7189e72_26\", \"run_number\": 31, \"metric\": null, \"status\": \"Completed\", \"run_type\": \"azureml.scriptrun\", \"training_percent\": \"100\", \"start_time\": \"2021-02-10T14:54:49.15552Z\", \"end_time\": \"2021-02-10T14:55:49.638082Z\", \"created_time\": \"2021-02-10T14:53:50.070581Z\", \"created_time_dt\": \"2021-02-10T14:53:50.070581Z\", \"duration\": \"0:01:59\", \"iteration\": \"26\", \"goal\": \"normalized_root_mean_squared_error_min\", \"run_name\": \"RobustScaler, ExtremeRandomTrees\", \"run_properties\": \"copy=True, quantile_range=[10, 90], with_centering=True,\\n             with_scaling=False\", \"primary_metric\": 0.12627617, \"best_metric\": 0.12360182}, {\"run_id\": \"AutoML_09d54a55-51c6-499f-a116-05e9e7189e72_27\", \"run_number\": 32, \"metric\": null, \"status\": \"Completed\", \"run_type\": \"azureml.scriptrun\", \"training_percent\": \"100\", \"start_time\": \"2021-02-10T14:55:18.721124Z\", \"end_time\": \"2021-02-10T14:56:14.103491Z\", \"created_time\": \"2021-02-10T14:54:37.567919Z\", \"created_time_dt\": \"2021-02-10T14:54:37.567919Z\", \"duration\": \"0:01:36\", \"iteration\": \"27\", \"goal\": \"normalized_root_mean_squared_error_min\", \"run_name\": \"MinMaxScaler, DecisionTree\", \"run_properties\": \"copy=True, feature_range=(0, 1\", \"primary_metric\": 0.13536272, \"best_metric\": 0.12360182}, {\"run_id\": \"AutoML_09d54a55-51c6-499f-a116-05e9e7189e72_28\", \"run_number\": 33, \"metric\": null, \"status\": \"Completed\", \"run_type\": \"azureml.scriptrun\", \"training_percent\": \"100\", \"start_time\": \"2021-02-10T14:55:39.630658Z\", \"end_time\": \"2021-02-10T14:56:51.448203Z\", \"created_time\": \"2021-02-10T14:54:42.442303Z\", \"created_time_dt\": \"2021-02-10T14:54:42.442303Z\", \"duration\": \"0:02:09\", \"iteration\": \"28\", \"goal\": \"normalized_root_mean_squared_error_min\", \"run_name\": \"MaxAbsScaler, RandomForest\", \"run_properties\": \"copy=True\", \"primary_metric\": 0.14104422, \"best_metric\": 0.12360182}, {\"run_id\": \"AutoML_09d54a55-51c6-499f-a116-05e9e7189e72_29\", \"run_number\": 34, \"metric\": null, \"status\": \"Completed\", \"run_type\": \"azureml.scriptrun\", \"training_percent\": \"100\", \"start_time\": \"2021-02-10T14:55:43.350019Z\", \"end_time\": \"2021-02-10T14:56:36.11766Z\", \"created_time\": \"2021-02-10T14:55:18.589953Z\", \"created_time_dt\": \"2021-02-10T14:55:18.589953Z\", \"duration\": \"0:01:17\", \"iteration\": \"29\", \"goal\": \"normalized_root_mean_squared_error_min\", \"run_name\": \"MinMaxScaler, RandomForest\", \"run_properties\": \"copy=True, feature_range=(0, 1\", \"primary_metric\": 0.1248565, \"best_metric\": 0.12360182}, {\"run_id\": \"AutoML_09d54a55-51c6-499f-a116-05e9e7189e72_30\", \"run_number\": 35, \"metric\": null, \"status\": \"Completed\", \"run_type\": \"azureml.scriptrun\", \"training_percent\": \"100\", \"start_time\": \"2021-02-10T14:55:55.526501Z\", \"end_time\": \"2021-02-10T14:56:47.588612Z\", \"created_time\": \"2021-02-10T14:55:43.424449Z\", \"created_time_dt\": \"2021-02-10T14:55:43.424449Z\", \"duration\": \"0:01:04\", \"iteration\": \"30\", \"goal\": \"normalized_root_mean_squared_error_min\", \"run_name\": \"PCA, LightGBM\", \"run_properties\": \"copy=True, iterated_power='auto', n_components=0.20789473684210527,\\n    random_state=None, svd_solver='auto', tol=0.0, whiten=False\", \"primary_metric\": 0.16040785, \"best_metric\": 0.12360182}, {\"run_id\": \"AutoML_09d54a55-51c6-499f-a116-05e9e7189e72_31\", \"run_number\": 36, \"metric\": null, \"status\": \"Completed\", \"run_type\": \"azureml.scriptrun\", \"training_percent\": \"100\", \"start_time\": \"2021-02-10T14:56:16.74436Z\", \"end_time\": \"2021-02-10T14:57:06.036797Z\", \"created_time\": \"2021-02-10T14:55:51.495704Z\", \"created_time_dt\": \"2021-02-10T14:55:51.495704Z\", \"duration\": \"0:01:14\", \"iteration\": \"31\", \"goal\": \"normalized_root_mean_squared_error_min\", \"run_name\": \"MaxAbsScaler, GradientBoosting\", \"run_properties\": \"copy=True\", \"primary_metric\": 0.13260949, \"best_metric\": 0.12360182}, {\"run_id\": \"AutoML_09d54a55-51c6-499f-a116-05e9e7189e72_32\", \"run_number\": 37, \"metric\": null, \"status\": \"Completed\", \"run_type\": \"azureml.scriptrun\", \"training_percent\": \"100\", \"start_time\": \"2021-02-10T14:56:37.070091Z\", \"end_time\": \"2021-02-10T14:57:34.881879Z\", \"created_time\": \"2021-02-10T14:56:16.152098Z\", \"created_time_dt\": \"2021-02-10T14:56:16.152098Z\", \"duration\": \"0:01:18\", \"iteration\": \"32\", \"goal\": \"normalized_root_mean_squared_error_min\", \"run_name\": \"RobustScaler, GradientBoosting\", \"run_properties\": \"copy=True, quantile_range=[25, 75], with_centering=False,\\n             with_scaling=False\", \"primary_metric\": 0.12606122, \"best_metric\": 0.12360182}, {\"run_id\": \"AutoML_09d54a55-51c6-499f-a116-05e9e7189e72_33\", \"run_number\": 38, \"metric\": null, \"status\": \"Completed\", \"run_type\": \"azureml.scriptrun\", \"training_percent\": \"100\", \"start_time\": \"2021-02-10T14:56:49.91166Z\", \"end_time\": \"2021-02-10T14:57:41.773435Z\", \"created_time\": \"2021-02-10T14:56:37.966312Z\", \"created_time_dt\": \"2021-02-10T14:56:37.966312Z\", \"duration\": \"0:01:03\", \"iteration\": \"33\", \"goal\": \"normalized_root_mean_squared_error_min\", \"run_name\": \"StandardScalerWrapper, RandomForest\", \"run_properties\": \"<azureml.automl.runtime.shared.model_wrappers.StandardScalerWrapper object at 0x7f977873cf60\", \"primary_metric\": 0.12592335, \"best_metric\": 0.12360182}, {\"run_id\": \"AutoML_09d54a55-51c6-499f-a116-05e9e7189e72_34\", \"run_number\": 39, \"metric\": null, \"status\": \"Canceled\", \"run_type\": \"azureml.scriptrun\", \"training_percent\": \"100\", \"start_time\": \"2021-02-10T14:57:03.022791Z\", \"end_time\": \"2021-02-10T14:57:49.585162Z\", \"created_time\": \"2021-02-10T14:56:50.022963Z\", \"created_time_dt\": \"2021-02-10T14:56:50.022963Z\", \"duration\": \"0:00:59\", \"iteration\": \"34\", \"goal\": \"normalized_root_mean_squared_error_min\", \"run_name\": \"StandardScalerWrapper, GradientBoosting\", \"run_properties\": \"<azureml.automl.runtime.shared.model_wrappers.StandardScalerWrapper object at 0x7fac29d4bbe0\", \"primary_metric\": 0.12397819, \"best_metric\": 0.12360182}, {\"run_id\": \"AutoML_09d54a55-51c6-499f-a116-05e9e7189e72_35\", \"run_number\": 40, \"metric\": null, \"status\": \"Canceled\", \"run_type\": \"azureml.scriptrun\", \"training_percent\": \"100\", \"start_time\": \"2021-02-10T14:57:09.362021Z\", \"end_time\": \"2021-02-10T14:57:49.340242Z\", \"created_time\": \"2021-02-10T14:56:54.486031Z\", \"created_time_dt\": \"2021-02-10T14:56:54.486031Z\", \"duration\": \"0:00:54\", \"iteration\": \"35\", \"goal\": \"normalized_root_mean_squared_error_min\", \"run_name\": \"PCA, LightGBM\", \"run_properties\": \"copy=True, iterated_power='auto', n_components=0.3068421052631579,\\n    random_state=None, svd_solver='auto', tol=0.0, whiten=False\", \"primary_metric\": 0.15876151, \"best_metric\": 0.12360182}, {\"run_id\": \"AutoML_09d54a55-51c6-499f-a116-05e9e7189e72_36\", \"run_number\": 41, \"metric\": null, \"status\": \"Canceled\", \"run_type\": \"azureml.scriptrun\", \"training_percent\": \"100\", \"start_time\": \"2021-02-10T14:57:39.185588Z\", \"end_time\": \"2021-02-10T14:57:49.920282Z\", \"created_time\": \"2021-02-10T14:57:07.900295Z\", \"created_time_dt\": \"2021-02-10T14:57:07.900295Z\", \"duration\": \"0:00:42\", \"iteration\": \"36\", \"goal\": null, \"run_name\": \"Canceled\", \"run_properties\": null}, {\"run_id\": \"AutoML_09d54a55-51c6-499f-a116-05e9e7189e72_37\", \"run_number\": 42, \"metric\": null, \"status\": \"Canceled\", \"run_type\": \"azureml.scriptrun\", \"training_percent\": \"100\", \"start_time\": \"2021-02-10T14:57:36.761383Z\", \"end_time\": \"2021-02-10T14:57:52.942267Z\", \"created_time\": \"2021-02-10T14:57:36.761383Z\", \"created_time_dt\": \"2021-02-10T14:57:36.761383Z\", \"duration\": \"0:00:16\", \"iteration\": \"37\", \"goal\": null, \"run_name\": \"Canceled\", \"run_properties\": null}, {\"run_id\": \"AutoML_09d54a55-51c6-499f-a116-05e9e7189e72_38\", \"run_number\": 43, \"metric\": null, \"status\": \"Completed\", \"run_type\": \"azureml.scriptrun\", \"training_percent\": \"100\", \"start_time\": \"2021-02-10T14:58:04.54043Z\", \"end_time\": \"2021-02-10T14:59:44.466012Z\", \"created_time\": \"2021-02-10T14:57:53.829214Z\", \"created_time_dt\": \"2021-02-10T14:57:53.829214Z\", \"duration\": \"0:01:50\", \"iteration\": \"38\", \"goal\": \"normalized_root_mean_squared_error_min\", \"run_name\": \"VotingEnsemble\", \"run_properties\": \"estimators=[('0',\\n                                          Pipeline(memory=None,\\n                                                   steps=[('maxabsscaler',\\n                                                           MaxAbsScaler(copy=True\", \"primary_metric\": 0.12072878, \"best_metric\": 0.12072878}, {\"run_id\": \"AutoML_09d54a55-51c6-499f-a116-05e9e7189e72_39\", \"run_number\": 44, \"metric\": null, \"status\": \"Completed\", \"run_type\": \"azureml.scriptrun\", \"training_percent\": \"100\", \"start_time\": \"2021-02-10T14:58:04.806225Z\", \"end_time\": \"2021-02-10T14:59:38.403631Z\", \"created_time\": \"2021-02-10T14:57:53.907889Z\", \"created_time_dt\": \"2021-02-10T14:57:53.907889Z\", \"duration\": \"0:01:44\", \"iteration\": \"39\", \"goal\": \"normalized_root_mean_squared_error_min\", \"run_name\": \"StackEnsemble\", \"run_properties\": \"base_learners=[('0',\\n                                       Pipeline(memory=None,\\n                                                steps=[('maxabsscaler',\\n                                                        MaxAbsScaler(copy=True\", \"primary_metric\": 0.12209073, \"best_metric\": 0.12072878}], \"children_metrics\": {\"categories\": [0], \"series\": {\"explained_variance\": [{\"categories\": [\"0\", \"1\", \"2\", \"3\", \"4\", \"5\", \"6\", \"7\", \"8\", \"9\", \"10\", \"11\", \"12\", \"13\", \"14\", \"15\", \"16\", \"17\", \"18\", \"19\", \"20\", \"21\", \"22\", \"23\", \"24\", \"25\", \"26\", \"27\", \"28\", \"29\", \"30\", \"31\", \"32\", \"33\", \"34\", \"35\", \"38\", \"39\"], \"mode\": \"markers\", \"name\": \"explained_variance\", \"stepped\": false, \"type\": \"scatter\", \"data\": [0.4211496911620216, 0.3910950251415072, 0.34638505228008276, 0.23509771144961783, 0.31429939449637595, 0.2646756803860607, 0.34273543410254553, 0.32794100510397883, 0.347001789382572, 0.32143888609993204, 0.2646647148739802, 0.25855558559607755, 0.34605162201593637, 0.29918337791599575, 0.3233537789251333, 0.2631322860591624, 0.2979489225416958, 0.24882024900955288, 0.3169089192701605, 0.31305090002710806, 0.291344950652495, 0.34623112842589004, 0.2779600809784619, 0.27168370481614457, 0.3738733580400614, 0.035051816694179116, 0.39872320700240815, 0.30575476135097696, 0.2651119948678568, 0.4118969036014629, 0.02262295777557466, 0.3350260600931171, 0.3974435657795712, 0.3994228391975255, 0.4208286947564826, 0.043357359531899675, 0.44834202143730756, 0.4408146600302369]}, {\"categories\": [\"0\", \"1\", \"2\", \"3\", \"4\", \"5\", \"6\", \"7\", \"8\", \"9\", \"10\", \"11\", \"12\", \"13\", \"14\", \"15\", \"16\", \"17\", \"18\", \"19\", \"20\", \"21\", \"22\", \"23\", \"24\", \"25\", \"26\", \"27\", \"28\", \"29\", \"30\", \"31\", \"32\", \"33\", \"34\", \"35\", \"38\", \"39\"], \"mode\": \"lines\", \"name\": \"explained_variance_max\", \"stepped\": true, \"type\": \"scatter\", \"data\": [0.4211496911620216, 0.4211496911620216, 0.4211496911620216, 0.4211496911620216, 0.4211496911620216, 0.4211496911620216, 0.4211496911620216, 0.4211496911620216, 0.4211496911620216, 0.4211496911620216, 0.4211496911620216, 0.4211496911620216, 0.4211496911620216, 0.4211496911620216, 0.4211496911620216, 0.4211496911620216, 0.4211496911620216, 0.4211496911620216, 0.4211496911620216, 0.4211496911620216, 0.4211496911620216, 0.4211496911620216, 0.4211496911620216, 0.4211496911620216, 0.4211496911620216, 0.4211496911620216, 0.4211496911620216, 0.4211496911620216, 0.4211496911620216, 0.4211496911620216, 0.4211496911620216, 0.4211496911620216, 0.4211496911620216, 0.4211496911620216, 0.4211496911620216, 0.4211496911620216, 0.44834202143730756, 0.44834202143730756]}], \"mean_absolute_percentage_error\": [{\"categories\": [\"0\", \"1\", \"2\", \"3\", \"4\", \"5\", \"6\", \"7\", \"8\", \"9\", \"10\", \"11\", \"12\", \"13\", \"14\", \"15\", \"16\", \"17\", \"18\", \"19\", \"20\", \"21\", \"22\", \"23\", \"24\", \"25\", \"26\", \"27\", \"28\", \"29\", \"30\", \"31\", \"32\", \"33\", \"34\", \"35\", \"38\", \"39\"], \"mode\": \"markers\", \"name\": \"mean_absolute_percentage_error\", \"stepped\": false, \"type\": \"scatter\", \"data\": [8.217005086880846, 8.873702302581021, 9.293868970375431, 9.579038039925027, 9.34978265073805, 9.64083691017932, 9.438859570194781, 9.11529982679894, 9.305104053905058, 9.314584507128865, 9.699864685501822, 9.639257286377564, 9.298145228296168, 9.423002252791372, 9.246720987129411, 9.591391958961465, 9.420011645410835, 9.498862722233982, 9.288710503042594, 9.336774128554342, 9.369998765828402, 9.29236577600525, 9.258871959831897, 9.586902466402748, 8.604113615737774, 12.13709827084702, 8.94118453161487, 9.357041971378262, 10.409357459351455, 8.669020470260218, 12.421852067928771, 9.811182797984898, 8.868833403950173, 8.874226306744069, 8.686520644228796, 11.947232084849308, 8.279239234010376, 8.391801197702113]}, {\"categories\": [\"0\", \"1\", \"2\", \"3\", \"4\", \"5\", \"6\", \"7\", \"8\", \"9\", \"10\", \"11\", \"12\", \"13\", \"14\", \"15\", \"16\", \"17\", \"18\", \"19\", \"20\", \"21\", \"22\", \"23\", \"24\", \"25\", \"26\", \"27\", \"28\", \"29\", \"30\", \"31\", \"32\", \"33\", \"34\", \"35\", \"38\", \"39\"], \"mode\": \"lines\", \"name\": \"mean_absolute_percentage_error_min\", \"stepped\": true, \"type\": \"scatter\", \"data\": [8.217005086880846, 8.217005086880846, 8.217005086880846, 8.217005086880846, 8.217005086880846, 8.217005086880846, 8.217005086880846, 8.217005086880846, 8.217005086880846, 8.217005086880846, 8.217005086880846, 8.217005086880846, 8.217005086880846, 8.217005086880846, 8.217005086880846, 8.217005086880846, 8.217005086880846, 8.217005086880846, 8.217005086880846, 8.217005086880846, 8.217005086880846, 8.217005086880846, 8.217005086880846, 8.217005086880846, 8.217005086880846, 8.217005086880846, 8.217005086880846, 8.217005086880846, 8.217005086880846, 8.217005086880846, 8.217005086880846, 8.217005086880846, 8.217005086880846, 8.217005086880846, 8.217005086880846, 8.217005086880846, 8.217005086880846, 8.217005086880846]}], \"normalized_median_absolute_error\": [{\"categories\": [\"0\", \"1\", \"2\", \"3\", \"4\", \"5\", \"6\", \"7\", \"8\", \"9\", \"10\", \"11\", \"12\", \"13\", \"14\", \"15\", \"16\", \"17\", \"18\", \"19\", \"20\", \"21\", \"22\", \"23\", \"24\", \"25\", \"26\", \"27\", \"28\", \"29\", \"30\", \"31\", \"32\", \"33\", \"34\", \"35\", \"38\", \"39\"], \"mode\": \"markers\", \"name\": \"normalized_median_absolute_error\", \"stepped\": false, \"type\": \"scatter\", \"data\": [0.06250151730572163, 0.07725566864013671, 0.0793380629091788, 0.07834615384615387, 0.08165795168621928, 0.0794094794094794, 0.08106278432323913, 0.08114848484848483, 0.07975091974778596, 0.07963585477828072, 0.08015669298022238, 0.08320855614973259, 0.0793929911181213, 0.08184242657926873, 0.07989319338099829, 0.08350681050452222, 0.0823687423687424, 0.08064102564102563, 0.08229690644586275, 0.0806902097507354, 0.08034866582692672, 0.07894661597119404, 0.07744775692144114, 0.0806216006216006, 0.06620000000000001, 0.1067884453159453, 0.07659114706121437, 0.08284001042031604, 0.09900000000000002, 0.0699531980843312, 0.11118732627065817, 0.08574911928798526, 0.07874546022283929, 0.07427150251118186, 0.06961444296928924, 0.10687357434743297, 0.06398836722925558, 0.06503471696197226]}, {\"categories\": [\"0\", \"1\", \"2\", \"3\", \"4\", \"5\", \"6\", \"7\", \"8\", \"9\", \"10\", \"11\", \"12\", \"13\", \"14\", \"15\", \"16\", \"17\", \"18\", \"19\", \"20\", \"21\", \"22\", \"23\", \"24\", \"25\", \"26\", \"27\", \"28\", \"29\", \"30\", \"31\", \"32\", \"33\", \"34\", \"35\", \"38\", \"39\"], \"mode\": \"lines\", \"name\": \"normalized_median_absolute_error_min\", \"stepped\": true, \"type\": \"scatter\", \"data\": [0.06250151730572163, 0.06250151730572163, 0.06250151730572163, 0.06250151730572163, 0.06250151730572163, 0.06250151730572163, 0.06250151730572163, 0.06250151730572163, 0.06250151730572163, 0.06250151730572163, 0.06250151730572163, 0.06250151730572163, 0.06250151730572163, 0.06250151730572163, 0.06250151730572163, 0.06250151730572163, 0.06250151730572163, 0.06250151730572163, 0.06250151730572163, 0.06250151730572163, 0.06250151730572163, 0.06250151730572163, 0.06250151730572163, 0.06250151730572163, 0.06250151730572163, 0.06250151730572163, 0.06250151730572163, 0.06250151730572163, 0.06250151730572163, 0.06250151730572163, 0.06250151730572163, 0.06250151730572163, 0.06250151730572163, 0.06250151730572163, 0.06250151730572163, 0.06250151730572163, 0.06250151730572163, 0.06250151730572163]}], \"normalized_root_mean_squared_error\": [{\"categories\": [\"0\", \"1\", \"2\", \"3\", \"4\", \"5\", \"6\", \"7\", \"8\", \"9\", \"10\", \"11\", \"12\", \"13\", \"14\", \"15\", \"16\", \"17\", \"18\", \"19\", \"20\", \"21\", \"22\", \"23\", \"24\", \"25\", \"26\", \"27\", \"28\", \"29\", \"30\", \"31\", \"32\", \"33\", \"34\", \"35\", \"38\", \"39\"], \"mode\": \"markers\", \"name\": \"normalized_root_mean_squared_error\", \"stepped\": false, \"type\": \"scatter\", \"data\": [0.12360182376389277, 0.1267054518441904, 0.13159521593777757, 0.14122219434454047, 0.13445249440914148, 0.1396477435076496, 0.132061600134147, 0.13310658182217078, 0.13154667597301262, 0.13409403900022243, 0.13914210217603662, 0.13990101241616976, 0.1316537432108879, 0.13620769289889453, 0.13401315833754798, 0.13924704912829247, 0.13623481769106163, 0.14069881943639895, 0.1344528132317544, 0.13462554371911764, 0.13676892679231809, 0.1315968636895109, 0.1380976768966442, 0.1389239157600957, 0.12876284885280137, 0.1595415719317108, 0.12627617131836383, 0.13536272277209666, 0.14104422421059828, 0.12485650173100867, 0.16040784627460508, 0.13260949069398925, 0.12606121585286617, 0.12592334682680506, 0.12397819001941235, 0.1587615129151587, 0.12072878058892181, 0.12209072633704357]}, {\"categories\": [\"0\", \"1\", \"2\", \"3\", \"4\", \"5\", \"6\", \"7\", \"8\", \"9\", \"10\", \"11\", \"12\", \"13\", \"14\", \"15\", \"16\", \"17\", \"18\", \"19\", \"20\", \"21\", \"22\", \"23\", \"24\", \"25\", \"26\", \"27\", \"28\", \"29\", \"30\", \"31\", \"32\", \"33\", \"34\", \"35\", \"38\", \"39\"], \"mode\": \"lines\", \"name\": \"normalized_root_mean_squared_error_min\", \"stepped\": true, \"type\": \"scatter\", \"data\": [0.12360182376389277, 0.12360182376389277, 0.12360182376389277, 0.12360182376389277, 0.12360182376389277, 0.12360182376389277, 0.12360182376389277, 0.12360182376389277, 0.12360182376389277, 0.12360182376389277, 0.12360182376389277, 0.12360182376389277, 0.12360182376389277, 0.12360182376389277, 0.12360182376389277, 0.12360182376389277, 0.12360182376389277, 0.12360182376389277, 0.12360182376389277, 0.12360182376389277, 0.12360182376389277, 0.12360182376389277, 0.12360182376389277, 0.12360182376389277, 0.12360182376389277, 0.12360182376389277, 0.12360182376389277, 0.12360182376389277, 0.12360182376389277, 0.12360182376389277, 0.12360182376389277, 0.12360182376389277, 0.12360182376389277, 0.12360182376389277, 0.12360182376389277, 0.12360182376389277, 0.12072878058892181, 0.12072878058892181]}], \"r2_score\": [{\"categories\": [\"0\", \"1\", \"2\", \"3\", \"4\", \"5\", \"6\", \"7\", \"8\", \"9\", \"10\", \"11\", \"12\", \"13\", \"14\", \"15\", \"16\", \"17\", \"18\", \"19\", \"20\", \"21\", \"22\", \"23\", \"24\", \"25\", \"26\", \"27\", \"28\", \"29\", \"30\", \"31\", \"32\", \"33\", \"34\", \"35\", \"38\", \"39\"], \"mode\": \"markers\", \"name\": \"r2_score\", \"stepped\": false, \"type\": \"scatter\", \"data\": [0.4138553700679692, 0.3822468375611884, 0.3353095660523715, 0.22859110000923405, 0.302414845250735, 0.2501351698047081, 0.3309082435477313, 0.31857583668567024, 0.33589041741961767, 0.30550134116868566, 0.2544470687204203, 0.24681846306286684, 0.334686532586821, 0.2857731755382783, 0.30882488802499075, 0.25311266533600274, 0.28521453489026066, 0.23702458042857916, 0.3038135318035423, 0.30099113059797067, 0.2807876888071236, 0.3352451659100061, 0.2657181694952867, 0.2576896907208451, 0.3656336160088096, 0.026325572430646548, 0.38805230736707585, 0.2927390247279222, 0.23781229056335956, 0.4016221213884815, 0.015452473451554894, 0.3265749347159519, 0.3888460311357392, 0.39135833656130725, 0.41068548475320676, 0.03642233539541815, 0.440341389820735, 0.42720161576049964]}, {\"categories\": [\"0\", \"1\", \"2\", \"3\", \"4\", \"5\", \"6\", \"7\", \"8\", \"9\", \"10\", \"11\", \"12\", \"13\", \"14\", \"15\", \"16\", \"17\", \"18\", \"19\", \"20\", \"21\", \"22\", \"23\", \"24\", \"25\", \"26\", \"27\", \"28\", \"29\", \"30\", \"31\", \"32\", \"33\", \"34\", \"35\", \"38\", \"39\"], \"mode\": \"lines\", \"name\": \"r2_score_max\", \"stepped\": true, \"type\": \"scatter\", \"data\": [0.4138553700679692, 0.4138553700679692, 0.4138553700679692, 0.4138553700679692, 0.4138553700679692, 0.4138553700679692, 0.4138553700679692, 0.4138553700679692, 0.4138553700679692, 0.4138553700679692, 0.4138553700679692, 0.4138553700679692, 0.4138553700679692, 0.4138553700679692, 0.4138553700679692, 0.4138553700679692, 0.4138553700679692, 0.4138553700679692, 0.4138553700679692, 0.4138553700679692, 0.4138553700679692, 0.4138553700679692, 0.4138553700679692, 0.4138553700679692, 0.4138553700679692, 0.4138553700679692, 0.4138553700679692, 0.4138553700679692, 0.4138553700679692, 0.4138553700679692, 0.4138553700679692, 0.4138553700679692, 0.4138553700679692, 0.4138553700679692, 0.4138553700679692, 0.4138553700679692, 0.440341389820735, 0.440341389820735]}], \"normalized_root_mean_squared_log_error\": [{\"categories\": [\"0\", \"1\", \"2\", \"3\", \"4\", \"5\", \"6\", \"7\", \"8\", \"9\", \"10\", \"11\", \"12\", \"13\", \"14\", \"15\", \"16\", \"17\", \"18\", \"19\", \"20\", \"21\", \"22\", \"23\", \"24\", \"25\", \"26\", \"27\", \"28\", \"29\", \"30\", \"31\", \"32\", \"33\", \"34\", \"35\", \"38\", \"39\"], \"mode\": \"markers\", \"name\": \"normalized_root_mean_squared_log_error\", \"stepped\": false, \"type\": \"scatter\", \"data\": [0.11848214329794024, 0.12168524781249797, 0.12561510302680073, 0.1343313317582951, 0.1282063206235832, 0.13341647427986786, 0.1259268505991304, 0.12667922386511038, 0.12555999178989294, 0.12791110167985537, 0.1321977367210136, 0.13365756338015156, 0.1256922899234627, 0.12997114349459643, 0.12773398964488997, 0.13259607777059185, 0.12996167771241401, 0.13449618856017712, 0.1282460652847282, 0.12834008420864904, 0.13051553792694331, 0.1256202461073918, 0.13200216094473738, 0.13262910356090168, 0.12311233761878086, 0.15054079312412497, 0.12085090280169333, 0.1289756899552024, 0.13532340690370281, 0.11957911674547153, 0.15133937041537185, 0.1263991260109571, 0.12088086507326334, 0.12065326272020442, 0.11927384055556203, 0.15003545408463054, 0.11592099431598987, 0.11717454805993684]}, {\"categories\": [\"0\", \"1\", \"2\", \"3\", \"4\", \"5\", \"6\", \"7\", \"8\", \"9\", \"10\", \"11\", \"12\", \"13\", \"14\", \"15\", \"16\", \"17\", \"18\", \"19\", \"20\", \"21\", \"22\", \"23\", \"24\", \"25\", \"26\", \"27\", \"28\", \"29\", \"30\", \"31\", \"32\", \"33\", \"34\", \"35\", \"38\", \"39\"], \"mode\": \"lines\", \"name\": \"normalized_root_mean_squared_log_error_min\", \"stepped\": true, \"type\": \"scatter\", \"data\": [0.11848214329794024, 0.11848214329794024, 0.11848214329794024, 0.11848214329794024, 0.11848214329794024, 0.11848214329794024, 0.11848214329794024, 0.11848214329794024, 0.11848214329794024, 0.11848214329794024, 0.11848214329794024, 0.11848214329794024, 0.11848214329794024, 0.11848214329794024, 0.11848214329794024, 0.11848214329794024, 0.11848214329794024, 0.11848214329794024, 0.11848214329794024, 0.11848214329794024, 0.11848214329794024, 0.11848214329794024, 0.11848214329794024, 0.11848214329794024, 0.11848214329794024, 0.11848214329794024, 0.11848214329794024, 0.11848214329794024, 0.11848214329794024, 0.11848214329794024, 0.11848214329794024, 0.11848214329794024, 0.11848214329794024, 0.11848214329794024, 0.11848214329794024, 0.11848214329794024, 0.11592099431598987, 0.11592099431598987]}], \"root_mean_squared_log_error\": [{\"categories\": [\"0\", \"1\", \"2\", \"3\", \"4\", \"5\", \"6\", \"7\", \"8\", \"9\", \"10\", \"11\", \"12\", \"13\", \"14\", \"15\", \"16\", \"17\", \"18\", \"19\", \"20\", \"21\", \"22\", \"23\", \"24\", \"25\", \"26\", \"27\", \"28\", \"29\", \"30\", \"31\", \"32\", \"33\", \"34\", \"35\", \"38\", \"39\"], \"mode\": \"markers\", \"name\": \"root_mean_squared_log_error\", \"stepped\": false, \"type\": \"scatter\", \"data\": [0.09608075008237275, 0.09867824431892655, 0.10186508265755997, 0.10893333590738168, 0.10396637930358232, 0.10819145033459358, 0.10211788818379415, 0.1027280103990507, 0.10182039129029838, 0.10372697734171396, 0.10720313922248088, 0.108386956770814, 0.10192767584435913, 0.10539752749595663, 0.10358335184090495, 0.10752616601594323, 0.10538985140716477, 0.10906702326937659, 0.10399860945023812, 0.10407485223654164, 0.10583899339068666, 0.10186925333701571, 0.10704454091593854, 0.10755294762721992, 0.09983551456409566, 0.1220780779175243, 0.09800164873891573, 0.1045902841420225, 0.10973783961955, 0.09697031899736287, 0.12272566837298057, 0.10250087058562043, 0.09802594605027833, 0.09784137642490091, 0.09672276131067388, 0.12166828322096453, 0.0940038369846775, 0.09502038159329522]}, {\"categories\": [\"0\", \"1\", \"2\", \"3\", \"4\", \"5\", \"6\", \"7\", \"8\", \"9\", \"10\", \"11\", \"12\", \"13\", \"14\", \"15\", \"16\", \"17\", \"18\", \"19\", \"20\", \"21\", \"22\", \"23\", \"24\", \"25\", \"26\", \"27\", \"28\", \"29\", \"30\", \"31\", \"32\", \"33\", \"34\", \"35\", \"38\", \"39\"], \"mode\": \"lines\", \"name\": \"root_mean_squared_log_error_min\", \"stepped\": true, \"type\": \"scatter\", \"data\": [0.09608075008237275, 0.09608075008237275, 0.09608075008237275, 0.09608075008237275, 0.09608075008237275, 0.09608075008237275, 0.09608075008237275, 0.09608075008237275, 0.09608075008237275, 0.09608075008237275, 0.09608075008237275, 0.09608075008237275, 0.09608075008237275, 0.09608075008237275, 0.09608075008237275, 0.09608075008237275, 0.09608075008237275, 0.09608075008237275, 0.09608075008237275, 0.09608075008237275, 0.09608075008237275, 0.09608075008237275, 0.09608075008237275, 0.09608075008237275, 0.09608075008237275, 0.09608075008237275, 0.09608075008237275, 0.09608075008237275, 0.09608075008237275, 0.09608075008237275, 0.09608075008237275, 0.09608075008237275, 0.09608075008237275, 0.09608075008237275, 0.09608075008237275, 0.09608075008237275, 0.0940038369846775, 0.0940038369846775]}], \"spearman_correlation\": [{\"categories\": [\"0\", \"1\", \"2\", \"3\", \"4\", \"5\", \"6\", \"7\", \"8\", \"9\", \"10\", \"11\", \"12\", \"13\", \"14\", \"15\", \"16\", \"17\", \"18\", \"19\", \"20\", \"21\", \"22\", \"23\", \"24\", \"25\", \"26\", \"27\", \"28\", \"29\", \"30\", \"31\", \"32\", \"33\", \"34\", \"35\", \"38\", \"39\"], \"mode\": \"markers\", \"name\": \"spearman_correlation\", \"stepped\": false, \"type\": \"scatter\", \"data\": [0.6569626345086359, 0.62965992043253, 0.5969032818113982, 0.5449776958543395, 0.5839176685299525, 0.550373515609089, 0.5954720495081192, 0.5869567175502247, 0.5974726141479809, 0.5793855430603825, 0.5541907091410379, 0.5480428406957449, 0.5996582138428458, 0.5683504464269389, 0.5946449981575515, 0.5579875246967241, 0.5671684550029858, 0.5540977529230874, 0.5744431898106553, 0.5822253264380052, 0.5737908463970868, 0.5970905603029649, 0.5682472879550607, 0.5566998073490342, 0.6188811239864791, 0.1824292306791391, 0.6464911440125969, 0.5771471650479405, 0.5489805193754672, 0.6469402193707727, 0.19731135620915471, 0.6275824269615253, 0.6301415888114017, 0.6406718648237046, 0.6544178444472306, 0.21299652837881133, 0.6714136881033356, 0.6701817464542604]}, {\"categories\": [\"0\", \"1\", \"2\", \"3\", \"4\", \"5\", \"6\", \"7\", \"8\", \"9\", \"10\", \"11\", \"12\", \"13\", \"14\", \"15\", \"16\", \"17\", \"18\", \"19\", \"20\", \"21\", \"22\", \"23\", \"24\", \"25\", \"26\", \"27\", \"28\", \"29\", \"30\", \"31\", \"32\", \"33\", \"34\", \"35\", \"38\", \"39\"], \"mode\": \"lines\", \"name\": \"spearman_correlation_max\", \"stepped\": true, \"type\": \"scatter\", \"data\": [0.6569626345086359, 0.6569626345086359, 0.6569626345086359, 0.6569626345086359, 0.6569626345086359, 0.6569626345086359, 0.6569626345086359, 0.6569626345086359, 0.6569626345086359, 0.6569626345086359, 0.6569626345086359, 0.6569626345086359, 0.6569626345086359, 0.6569626345086359, 0.6569626345086359, 0.6569626345086359, 0.6569626345086359, 0.6569626345086359, 0.6569626345086359, 0.6569626345086359, 0.6569626345086359, 0.6569626345086359, 0.6569626345086359, 0.6569626345086359, 0.6569626345086359, 0.6569626345086359, 0.6569626345086359, 0.6569626345086359, 0.6569626345086359, 0.6569626345086359, 0.6569626345086359, 0.6569626345086359, 0.6569626345086359, 0.6569626345086359, 0.6569626345086359, 0.6569626345086359, 0.6714136881033356, 0.6714136881033356]}], \"median_absolute_error\": [{\"categories\": [\"0\", \"1\", \"2\", \"3\", \"4\", \"5\", \"6\", \"7\", \"8\", \"9\", \"10\", \"11\", \"12\", \"13\", \"14\", \"15\", \"16\", \"17\", \"18\", \"19\", \"20\", \"21\", \"22\", \"23\", \"24\", \"25\", \"26\", \"27\", \"28\", \"29\", \"30\", \"31\", \"32\", \"33\", \"34\", \"35\", \"38\", \"39\"], \"mode\": \"markers\", \"name\": \"median_absolute_error\", \"stepped\": false, \"type\": \"scatter\", \"data\": [0.31250758652860816, 0.3862783432006836, 0.39669031454589404, 0.3917307692307693, 0.4082897584310964, 0.397047397047397, 0.40531392161619567, 0.4057424242424242, 0.3987545987389298, 0.3981792738914036, 0.40078346490111194, 0.41604278074866297, 0.39696495559060657, 0.40921213289634356, 0.3994659669049915, 0.4175340525226111, 0.411843711843712, 0.4032051282051281, 0.4114845322293138, 0.403451048753677, 0.4017433291346336, 0.39473307985597017, 0.3872387846072057, 0.40310800310800304, 0.33100000000000007, 0.5339422265797265, 0.38295573530607185, 0.4142000521015802, 0.4950000000000001, 0.34976599042165607, 0.5559366313532909, 0.4287455964399264, 0.3937273011141965, 0.3713575125559093, 0.34807221484644624, 0.5343678717371649, 0.3199418361462779, 0.32517358480986136]}, {\"categories\": [\"0\", \"1\", \"2\", \"3\", \"4\", \"5\", \"6\", \"7\", \"8\", \"9\", \"10\", \"11\", \"12\", \"13\", \"14\", \"15\", \"16\", \"17\", \"18\", \"19\", \"20\", \"21\", \"22\", \"23\", \"24\", \"25\", \"26\", \"27\", \"28\", \"29\", \"30\", \"31\", \"32\", \"33\", \"34\", \"35\", \"38\", \"39\"], \"mode\": \"lines\", \"name\": \"median_absolute_error_min\", \"stepped\": true, \"type\": \"scatter\", \"data\": [0.31250758652860816, 0.31250758652860816, 0.31250758652860816, 0.31250758652860816, 0.31250758652860816, 0.31250758652860816, 0.31250758652860816, 0.31250758652860816, 0.31250758652860816, 0.31250758652860816, 0.31250758652860816, 0.31250758652860816, 0.31250758652860816, 0.31250758652860816, 0.31250758652860816, 0.31250758652860816, 0.31250758652860816, 0.31250758652860816, 0.31250758652860816, 0.31250758652860816, 0.31250758652860816, 0.31250758652860816, 0.31250758652860816, 0.31250758652860816, 0.31250758652860816, 0.31250758652860816, 0.31250758652860816, 0.31250758652860816, 0.31250758652860816, 0.31250758652860816, 0.31250758652860816, 0.31250758652860816, 0.31250758652860816, 0.31250758652860816, 0.31250758652860816, 0.31250758652860816, 0.31250758652860816, 0.31250758652860816]}], \"root_mean_squared_error\": [{\"categories\": [\"0\", \"1\", \"2\", \"3\", \"4\", \"5\", \"6\", \"7\", \"8\", \"9\", \"10\", \"11\", \"12\", \"13\", \"14\", \"15\", \"16\", \"17\", \"18\", \"19\", \"20\", \"21\", \"22\", \"23\", \"24\", \"25\", \"26\", \"27\", \"28\", \"29\", \"30\", \"31\", \"32\", \"33\", \"34\", \"35\", \"38\", \"39\"], \"mode\": \"markers\", \"name\": \"root_mean_squared_error\", \"stepped\": false, \"type\": \"scatter\", \"data\": [0.6180091188194639, 0.633527259220952, 0.6579760796888878, 0.7061109717227024, 0.6722624720457073, 0.698238717538248, 0.660308000670735, 0.6655329091108537, 0.6577333798650631, 0.670470195001112, 0.6957105108801831, 0.699505062080849, 0.6582687160544396, 0.6810384644944726, 0.6700657916877398, 0.6962352456414624, 0.6811740884553081, 0.7034940971819947, 0.6722640661587719, 0.6731277185955882, 0.6838446339615903, 0.6579843184475547, 0.6904883844832209, 0.6946195788004785, 0.6438142442640069, 0.7977078596585542, 0.6313808565918191, 0.6768136138604832, 0.7052211210529914, 0.6242825086550433, 0.8020392313730254, 0.6630474534699463, 0.6303060792643309, 0.6296167341340253, 0.6198909500970617, 0.7938075645757935, 0.603643902944609, 0.6104536316852178]}, {\"categories\": [\"0\", \"1\", \"2\", \"3\", \"4\", \"5\", \"6\", \"7\", \"8\", \"9\", \"10\", \"11\", \"12\", \"13\", \"14\", \"15\", \"16\", \"17\", \"18\", \"19\", \"20\", \"21\", \"22\", \"23\", \"24\", \"25\", \"26\", \"27\", \"28\", \"29\", \"30\", \"31\", \"32\", \"33\", \"34\", \"35\", \"38\", \"39\"], \"mode\": \"lines\", \"name\": \"root_mean_squared_error_min\", \"stepped\": true, \"type\": \"scatter\", \"data\": [0.6180091188194639, 0.6180091188194639, 0.6180091188194639, 0.6180091188194639, 0.6180091188194639, 0.6180091188194639, 0.6180091188194639, 0.6180091188194639, 0.6180091188194639, 0.6180091188194639, 0.6180091188194639, 0.6180091188194639, 0.6180091188194639, 0.6180091188194639, 0.6180091188194639, 0.6180091188194639, 0.6180091188194639, 0.6180091188194639, 0.6180091188194639, 0.6180091188194639, 0.6180091188194639, 0.6180091188194639, 0.6180091188194639, 0.6180091188194639, 0.6180091188194639, 0.6180091188194639, 0.6180091188194639, 0.6180091188194639, 0.6180091188194639, 0.6180091188194639, 0.6180091188194639, 0.6180091188194639, 0.6180091188194639, 0.6180091188194639, 0.6180091188194639, 0.6180091188194639, 0.603643902944609, 0.603643902944609]}], \"normalized_mean_absolute_error\": [{\"categories\": [\"0\", \"1\", \"2\", \"3\", \"4\", \"5\", \"6\", \"7\", \"8\", \"9\", \"10\", \"11\", \"12\", \"13\", \"14\", \"15\", \"16\", \"17\", \"18\", \"19\", \"20\", \"21\", \"22\", \"23\", \"24\", \"25\", \"26\", \"27\", \"28\", \"29\", \"30\", \"31\", \"32\", \"33\", \"34\", \"35\", \"38\", \"39\"], \"mode\": \"markers\", \"name\": \"normalized_mean_absolute_error\", \"stepped\": false, \"type\": \"scatter\", \"data\": [0.08889266934011568, 0.09607530678334257, 0.10070785345317293, 0.1043336768310343, 0.10158950888888427, 0.10483932255623922, 0.10233734265824432, 0.09925910014237226, 0.10083004366689766, 0.1010992439675746, 0.10566929160881913, 0.10468571382679101, 0.10073489577503984, 0.1024778288898918, 0.10039447671696237, 0.10456884154600765, 0.10248510670567106, 0.10320326732222151, 0.10100473898166873, 0.10147117059190384, 0.10170903600845169, 0.10068755652029662, 0.10054363374370412, 0.10426523896056461, 0.09336129484304935, 0.13196527454521395, 0.09686272473651229, 0.10184963253351939, 0.1102356262011531, 0.09388504996951094, 0.13498434671843057, 0.10627656723064849, 0.09606850692436575, 0.09603817809878859, 0.09311844938177316, 0.12944242157443708, 0.08950923597758166, 0.0908102382975258]}, {\"categories\": [\"0\", \"1\", \"2\", \"3\", \"4\", \"5\", \"6\", \"7\", \"8\", \"9\", \"10\", \"11\", \"12\", \"13\", \"14\", \"15\", \"16\", \"17\", \"18\", \"19\", \"20\", \"21\", \"22\", \"23\", \"24\", \"25\", \"26\", \"27\", \"28\", \"29\", \"30\", \"31\", \"32\", \"33\", \"34\", \"35\", \"38\", \"39\"], \"mode\": \"lines\", \"name\": \"normalized_mean_absolute_error_min\", \"stepped\": true, \"type\": \"scatter\", \"data\": [0.08889266934011568, 0.08889266934011568, 0.08889266934011568, 0.08889266934011568, 0.08889266934011568, 0.08889266934011568, 0.08889266934011568, 0.08889266934011568, 0.08889266934011568, 0.08889266934011568, 0.08889266934011568, 0.08889266934011568, 0.08889266934011568, 0.08889266934011568, 0.08889266934011568, 0.08889266934011568, 0.08889266934011568, 0.08889266934011568, 0.08889266934011568, 0.08889266934011568, 0.08889266934011568, 0.08889266934011568, 0.08889266934011568, 0.08889266934011568, 0.08889266934011568, 0.08889266934011568, 0.08889266934011568, 0.08889266934011568, 0.08889266934011568, 0.08889266934011568, 0.08889266934011568, 0.08889266934011568, 0.08889266934011568, 0.08889266934011568, 0.08889266934011568, 0.08889266934011568, 0.08889266934011568, 0.08889266934011568]}], \"mean_absolute_error\": [{\"categories\": [\"0\", \"1\", \"2\", \"3\", \"4\", \"5\", \"6\", \"7\", \"8\", \"9\", \"10\", \"11\", \"12\", \"13\", \"14\", \"15\", \"16\", \"17\", \"18\", \"19\", \"20\", \"21\", \"22\", \"23\", \"24\", \"25\", \"26\", \"27\", \"28\", \"29\", \"30\", \"31\", \"32\", \"33\", \"34\", \"35\", \"38\", \"39\"], \"mode\": \"markers\", \"name\": \"mean_absolute_error\", \"stepped\": false, \"type\": \"scatter\", \"data\": [0.44446334670057847, 0.48037653391671287, 0.5035392672658647, 0.5216683841551715, 0.5079475444444215, 0.524196612781196, 0.5116867132912215, 0.49629550071186124, 0.5041502183344881, 0.505496219837873, 0.5283464580440957, 0.5234285691339551, 0.5036744788751992, 0.512389144449459, 0.5019723835848119, 0.5228442077300383, 0.5124255335283553, 0.5160163366111076, 0.5050236949083438, 0.5073558529595192, 0.5085451800422585, 0.5034377826014831, 0.5027181687185205, 0.521326194802823, 0.4668064742152467, 0.6598263727260696, 0.4843136236825615, 0.509248162667597, 0.5511781310057655, 0.46942524984755474, 0.674921733592153, 0.5313828361532424, 0.48034253462182874, 0.4801908904939429, 0.4655922469088658, 0.6472121078721853, 0.4475461798879083, 0.45405119148762896]}, {\"categories\": [\"0\", \"1\", \"2\", \"3\", \"4\", \"5\", \"6\", \"7\", \"8\", \"9\", \"10\", \"11\", \"12\", \"13\", \"14\", \"15\", \"16\", \"17\", \"18\", \"19\", \"20\", \"21\", \"22\", \"23\", \"24\", \"25\", \"26\", \"27\", \"28\", \"29\", \"30\", \"31\", \"32\", \"33\", \"34\", \"35\", \"38\", \"39\"], \"mode\": \"lines\", \"name\": \"mean_absolute_error_min\", \"stepped\": true, \"type\": \"scatter\", \"data\": [0.44446334670057847, 0.44446334670057847, 0.44446334670057847, 0.44446334670057847, 0.44446334670057847, 0.44446334670057847, 0.44446334670057847, 0.44446334670057847, 0.44446334670057847, 0.44446334670057847, 0.44446334670057847, 0.44446334670057847, 0.44446334670057847, 0.44446334670057847, 0.44446334670057847, 0.44446334670057847, 0.44446334670057847, 0.44446334670057847, 0.44446334670057847, 0.44446334670057847, 0.44446334670057847, 0.44446334670057847, 0.44446334670057847, 0.44446334670057847, 0.44446334670057847, 0.44446334670057847, 0.44446334670057847, 0.44446334670057847, 0.44446334670057847, 0.44446334670057847, 0.44446334670057847, 0.44446334670057847, 0.44446334670057847, 0.44446334670057847, 0.44446334670057847, 0.44446334670057847, 0.44446334670057847, 0.44446334670057847]}]}, \"metricName\": null, \"primaryMetricName\": \"normalized_root_mean_squared_error\", \"showLegend\": false}, \"run_metrics\": [{\"name\": \"experiment_status\", \"run_id\": \"AutoML_09d54a55-51c6-499f-a116-05e9e7189e72\", \"categories\": [0, 1, 2, 3, 4, 5], \"series\": [{\"data\": [\"DatasetEvaluation\", \"FeaturesGeneration\", \"DatasetFeaturization\", \"DatasetFeaturizationCompleted\", \"DatasetCrossValidationSplit\", \"ModelSelection\"]}]}, {\"name\": \"experiment_status_description\", \"run_id\": \"AutoML_09d54a55-51c6-499f-a116-05e9e7189e72\", \"categories\": [0, 1, 2, 3, 4, 5], \"series\": [{\"data\": [\"Gathering dataset statistics.\", \"Generating features for the dataset.\", \"Beginning to fit featurizers and featurize the dataset.\", \"Completed fit featurizers and featurizing the dataset.\", \"Generating individually featurized CV splits.\", \"Beginning model selection.\"]}]}, {\"name\": \"explained_variance\", \"run_id\": \"AutoML_09d54a55-51c6-499f-a116-05e9e7189e72\", \"categories\": [0], \"series\": [{\"data\": [0.44834202143730756]}]}, {\"name\": \"r2_score\", \"run_id\": \"AutoML_09d54a55-51c6-499f-a116-05e9e7189e72\", \"categories\": [0], \"series\": [{\"data\": [0.440341389820735]}]}, {\"name\": \"mean_absolute_percentage_error\", \"run_id\": \"AutoML_09d54a55-51c6-499f-a116-05e9e7189e72\", \"categories\": [0], \"series\": [{\"data\": [8.279239234010376]}]}, {\"name\": \"root_mean_squared_error\", \"run_id\": \"AutoML_09d54a55-51c6-499f-a116-05e9e7189e72\", \"categories\": [0], \"series\": [{\"data\": [0.603643902944609]}]}, {\"name\": \"normalized_root_mean_squared_error\", \"run_id\": \"AutoML_09d54a55-51c6-499f-a116-05e9e7189e72\", \"categories\": [0], \"series\": [{\"data\": [0.12072878058892181]}]}, {\"name\": \"normalized_root_mean_squared_log_error\", \"run_id\": \"AutoML_09d54a55-51c6-499f-a116-05e9e7189e72\", \"categories\": [0], \"series\": [{\"data\": [0.11592099431598987]}]}, {\"name\": \"normalized_median_absolute_error\", \"run_id\": \"AutoML_09d54a55-51c6-499f-a116-05e9e7189e72\", \"categories\": [0], \"series\": [{\"data\": [0.06398836722925558]}]}, {\"name\": \"median_absolute_error\", \"run_id\": \"AutoML_09d54a55-51c6-499f-a116-05e9e7189e72\", \"categories\": [0], \"series\": [{\"data\": [0.3199418361462779]}]}, {\"name\": \"normalized_mean_absolute_error\", \"run_id\": \"AutoML_09d54a55-51c6-499f-a116-05e9e7189e72\", \"categories\": [0], \"series\": [{\"data\": [0.08950923597758166]}]}, {\"name\": \"root_mean_squared_log_error\", \"run_id\": \"AutoML_09d54a55-51c6-499f-a116-05e9e7189e72\", \"categories\": [0], \"series\": [{\"data\": [0.0940038369846775]}]}, {\"name\": \"mean_absolute_error\", \"run_id\": \"AutoML_09d54a55-51c6-499f-a116-05e9e7189e72\", \"categories\": [0], \"series\": [{\"data\": [0.4475461798879083]}]}, {\"name\": \"spearman_correlation\", \"run_id\": \"AutoML_09d54a55-51c6-499f-a116-05e9e7189e72\", \"categories\": [0], \"series\": [{\"data\": [0.6714136881033356]}]}], \"run_logs\": \"\\nRun is completed.\", \"graph\": {}, \"widget_settings\": {\"childWidgetDisplay\": \"popup\", \"send_telemetry\": false, \"log_level\": \"INFO\", \"sdk_version\": \"1.20.0\"}, \"loading\": false}"
     },
     "metadata": {},
     "output_type": "display_data"
    }
   ],
   "source": [
    "RunDetails(automl_run).show()"
   ]
  },
  {
   "cell_type": "code",
   "execution_count": 12,
   "metadata": {
    "scrolled": false
   },
   "outputs": [
    {
     "data": {
      "text/plain": [
       "{'runId': 'AutoML_09d54a55-51c6-499f-a116-05e9e7189e72',\n",
       " 'target': 'auto-ml',\n",
       " 'status': 'Completed',\n",
       " 'startTimeUtc': '2021-02-10T14:36:46.448406Z',\n",
       " 'endTimeUtc': '2021-02-10T14:59:56.430023Z',\n",
       " 'properties': {'num_iterations': '1000',\n",
       "  'training_type': 'TrainFull',\n",
       "  'acquisition_function': 'EI',\n",
       "  'primary_metric': 'normalized_root_mean_squared_error',\n",
       "  'train_split': '0',\n",
       "  'acquisition_parameter': '0',\n",
       "  'num_cross_validation': '5',\n",
       "  'target': 'auto-ml',\n",
       "  'AMLSettingsJsonString': '{\"path\":null,\"name\":\"winequality-automl\",\"subscription_id\":\"1b944a9b-fdae-4f97-aeb1-b7eea0beac53\",\"resource_group\":\"aml-quickstarts-138398\",\"workspace_name\":\"quick-starts-ws-138398\",\"region\":\"southcentralus\",\"compute_target\":\"auto-ml\",\"spark_service\":null,\"azure_service\":\"remote\",\"many_models\":false,\"pipeline_fetch_max_batch_size\":1,\"iterations\":1000,\"primary_metric\":\"normalized_root_mean_squared_error\",\"task_type\":\"regression\",\"data_script\":null,\"validation_size\":0.0,\"n_cross_validations\":5,\"y_min\":null,\"y_max\":null,\"num_classes\":null,\"featurization\":\"auto\",\"_ignore_package_version_incompatibilities\":false,\"is_timeseries\":false,\"max_cores_per_iteration\":1,\"max_concurrent_iterations\":5,\"iteration_timeout_minutes\":null,\"mem_in_mb\":null,\"enforce_time_on_windows\":false,\"experiment_timeout_minutes\":15,\"experiment_exit_score\":null,\"whitelist_models\":null,\"blacklist_algos\":[\"TensorFlowDNN\",\"TensorFlowLinearRegressor\"],\"supported_models\":[\"ExtremeRandomTrees\",\"ElasticNet\",\"DecisionTree\",\"LightGBM\",\"LassoLars\",\"KNN\",\"SGD\",\"OnlineGradientDescentRegressor\",\"TensorFlowLinearRegressor\",\"GradientBoosting\",\"TensorFlowDNN\",\"XGBoostRegressor\",\"FastLinearRegressor\",\"RandomForest\"],\"auto_blacklist\":true,\"blacklist_samples_reached\":false,\"exclude_nan_labels\":true,\"verbosity\":20,\"_debug_log\":\"azureml_automl.log\",\"show_warnings\":false,\"model_explainability\":true,\"service_url\":null,\"sdk_url\":null,\"sdk_packages\":null,\"enable_onnx_compatible_models\":false,\"enable_split_onnx_featurizer_estimator_models\":false,\"vm_type\":\"STANDARD_D2_V2\",\"telemetry_verbosity\":20,\"send_telemetry\":true,\"enable_dnn\":false,\"scenario\":\"SDK-1.13.0\",\"environment_label\":null,\"force_text_dnn\":false,\"enable_feature_sweeping\":true,\"enable_early_stopping\":true,\"early_stopping_n_iters\":10,\"metrics\":null,\"enable_ensembling\":true,\"enable_stack_ensembling\":true,\"ensemble_iterations\":15,\"enable_tf\":false,\"enable_subsampling\":null,\"subsample_seed\":null,\"enable_nimbusml\":false,\"enable_streaming\":false,\"force_streaming\":false,\"track_child_runs\":true,\"allowed_private_models\":[],\"label_column_name\":\"target\",\"weight_column_name\":null,\"cv_split_column_names\":null,\"enable_local_managed\":false,\"_local_managed_run_id\":null,\"cost_mode\":1,\"lag_length\":0,\"metric_operation\":\"minimize\",\"preprocess\":true}',\n",
       "  'DataPrepJsonString': '{\\\\\"training_data\\\\\": \\\\\"{\\\\\\\\\\\\\"blocks\\\\\\\\\\\\\": [{\\\\\\\\\\\\\"id\\\\\\\\\\\\\": \\\\\\\\\\\\\"c4e856cd-98c9-44ed-89d6-20c8e03f8269\\\\\\\\\\\\\", \\\\\\\\\\\\\"type\\\\\\\\\\\\\": \\\\\\\\\\\\\"Microsoft.DPrep.GetDatastoreFilesBlock\\\\\\\\\\\\\", \\\\\\\\\\\\\"arguments\\\\\\\\\\\\\": {\\\\\\\\\\\\\"datastores\\\\\\\\\\\\\": [{\\\\\\\\\\\\\"datastoreName\\\\\\\\\\\\\": \\\\\\\\\\\\\"workspaceblobstore\\\\\\\\\\\\\", \\\\\\\\\\\\\"path\\\\\\\\\\\\\": \\\\\\\\\\\\\"df_train.csv\\\\\\\\\\\\\", \\\\\\\\\\\\\"resourceGroup\\\\\\\\\\\\\": \\\\\\\\\\\\\"aml-quickstarts-138398\\\\\\\\\\\\\", \\\\\\\\\\\\\"subscription\\\\\\\\\\\\\": \\\\\\\\\\\\\"1b944a9b-fdae-4f97-aeb1-b7eea0beac53\\\\\\\\\\\\\", \\\\\\\\\\\\\"workspaceName\\\\\\\\\\\\\": \\\\\\\\\\\\\"quick-starts-ws-138398\\\\\\\\\\\\\"}]}, \\\\\\\\\\\\\"localData\\\\\\\\\\\\\": {}, \\\\\\\\\\\\\"isEnabled\\\\\\\\\\\\\": true, \\\\\\\\\\\\\"name\\\\\\\\\\\\\": null, \\\\\\\\\\\\\"annotation\\\\\\\\\\\\\": null}, {\\\\\\\\\\\\\"id\\\\\\\\\\\\\": \\\\\\\\\\\\\"7af68e2e-9ba9-4e77-bbcb-798f60f85961\\\\\\\\\\\\\", \\\\\\\\\\\\\"type\\\\\\\\\\\\\": \\\\\\\\\\\\\"Microsoft.DPrep.ParseDelimitedBlock\\\\\\\\\\\\\", \\\\\\\\\\\\\"arguments\\\\\\\\\\\\\": {\\\\\\\\\\\\\"columnHeadersMode\\\\\\\\\\\\\": 3, \\\\\\\\\\\\\"fileEncoding\\\\\\\\\\\\\": 0, \\\\\\\\\\\\\"handleQuotedLineBreaks\\\\\\\\\\\\\": false, \\\\\\\\\\\\\"preview\\\\\\\\\\\\\": false, \\\\\\\\\\\\\"separator\\\\\\\\\\\\\": \\\\\\\\\\\\\",\\\\\\\\\\\\\", \\\\\\\\\\\\\"skipRows\\\\\\\\\\\\\": 0, \\\\\\\\\\\\\"skipRowsMode\\\\\\\\\\\\\": 0}, \\\\\\\\\\\\\"localData\\\\\\\\\\\\\": {}, \\\\\\\\\\\\\"isEnabled\\\\\\\\\\\\\": true, \\\\\\\\\\\\\"name\\\\\\\\\\\\\": null, \\\\\\\\\\\\\"annotation\\\\\\\\\\\\\": null}, {\\\\\\\\\\\\\"id\\\\\\\\\\\\\": \\\\\\\\\\\\\"22c6750c-c56e-42fc-86f0-bc23756a5e9f\\\\\\\\\\\\\", \\\\\\\\\\\\\"type\\\\\\\\\\\\\": \\\\\\\\\\\\\"Microsoft.DPrep.DropColumnsBlock\\\\\\\\\\\\\", \\\\\\\\\\\\\"arguments\\\\\\\\\\\\\": {\\\\\\\\\\\\\"columns\\\\\\\\\\\\\": {\\\\\\\\\\\\\"type\\\\\\\\\\\\\": 0, \\\\\\\\\\\\\"details\\\\\\\\\\\\\": {\\\\\\\\\\\\\"selectedColumns\\\\\\\\\\\\\": [\\\\\\\\\\\\\"Path\\\\\\\\\\\\\"]}}}, \\\\\\\\\\\\\"localData\\\\\\\\\\\\\": {}, \\\\\\\\\\\\\"isEnabled\\\\\\\\\\\\\": true, \\\\\\\\\\\\\"name\\\\\\\\\\\\\": null, \\\\\\\\\\\\\"annotation\\\\\\\\\\\\\": null}, {\\\\\\\\\\\\\"id\\\\\\\\\\\\\": \\\\\\\\\\\\\"3ee009af-6fae-4df3-be2f-445e64715706\\\\\\\\\\\\\", \\\\\\\\\\\\\"type\\\\\\\\\\\\\": \\\\\\\\\\\\\"Microsoft.DPrep.SetColumnTypesBlock\\\\\\\\\\\\\", \\\\\\\\\\\\\"arguments\\\\\\\\\\\\\": {\\\\\\\\\\\\\"columnConversion\\\\\\\\\\\\\": [{\\\\\\\\\\\\\"column\\\\\\\\\\\\\": {\\\\\\\\\\\\\"type\\\\\\\\\\\\\": 2, \\\\\\\\\\\\\"details\\\\\\\\\\\\\": {\\\\\\\\\\\\\"selectedColumn\\\\\\\\\\\\\": \\\\\\\\\\\\\"fixed acidity\\\\\\\\\\\\\"}}, \\\\\\\\\\\\\"typeProperty\\\\\\\\\\\\\": 3}, {\\\\\\\\\\\\\"column\\\\\\\\\\\\\": {\\\\\\\\\\\\\"type\\\\\\\\\\\\\": 2, \\\\\\\\\\\\\"details\\\\\\\\\\\\\": {\\\\\\\\\\\\\"selectedColumn\\\\\\\\\\\\\": \\\\\\\\\\\\\"volatile acidity\\\\\\\\\\\\\"}}, \\\\\\\\\\\\\"typeProperty\\\\\\\\\\\\\": 3}, {\\\\\\\\\\\\\"column\\\\\\\\\\\\\": {\\\\\\\\\\\\\"type\\\\\\\\\\\\\": 2, \\\\\\\\\\\\\"details\\\\\\\\\\\\\": {\\\\\\\\\\\\\"selectedColumn\\\\\\\\\\\\\": \\\\\\\\\\\\\"citric acid\\\\\\\\\\\\\"}}, \\\\\\\\\\\\\"typeProperty\\\\\\\\\\\\\": 3}, {\\\\\\\\\\\\\"column\\\\\\\\\\\\\": {\\\\\\\\\\\\\"type\\\\\\\\\\\\\": 2, \\\\\\\\\\\\\"details\\\\\\\\\\\\\": {\\\\\\\\\\\\\"selectedColumn\\\\\\\\\\\\\": \\\\\\\\\\\\\"residual sugar\\\\\\\\\\\\\"}}, \\\\\\\\\\\\\"typeProperty\\\\\\\\\\\\\": 3}, {\\\\\\\\\\\\\"column\\\\\\\\\\\\\": {\\\\\\\\\\\\\"type\\\\\\\\\\\\\": 2, \\\\\\\\\\\\\"details\\\\\\\\\\\\\": {\\\\\\\\\\\\\"selectedColumn\\\\\\\\\\\\\": \\\\\\\\\\\\\"chlorides\\\\\\\\\\\\\"}}, \\\\\\\\\\\\\"typeProperty\\\\\\\\\\\\\": 3}, {\\\\\\\\\\\\\"column\\\\\\\\\\\\\": {\\\\\\\\\\\\\"type\\\\\\\\\\\\\": 2, \\\\\\\\\\\\\"details\\\\\\\\\\\\\": {\\\\\\\\\\\\\"selectedColumn\\\\\\\\\\\\\": \\\\\\\\\\\\\"free sulfur dioxide\\\\\\\\\\\\\"}}, \\\\\\\\\\\\\"typeProperty\\\\\\\\\\\\\": 3}, {\\\\\\\\\\\\\"column\\\\\\\\\\\\\": {\\\\\\\\\\\\\"type\\\\\\\\\\\\\": 2, \\\\\\\\\\\\\"details\\\\\\\\\\\\\": {\\\\\\\\\\\\\"selectedColumn\\\\\\\\\\\\\": \\\\\\\\\\\\\"total sulfur dioxide\\\\\\\\\\\\\"}}, \\\\\\\\\\\\\"typeProperty\\\\\\\\\\\\\": 3}, {\\\\\\\\\\\\\"column\\\\\\\\\\\\\": {\\\\\\\\\\\\\"type\\\\\\\\\\\\\": 2, \\\\\\\\\\\\\"details\\\\\\\\\\\\\": {\\\\\\\\\\\\\"selectedColumn\\\\\\\\\\\\\": \\\\\\\\\\\\\"density\\\\\\\\\\\\\"}}, \\\\\\\\\\\\\"typeProperty\\\\\\\\\\\\\": 3}, {\\\\\\\\\\\\\"column\\\\\\\\\\\\\": {\\\\\\\\\\\\\"type\\\\\\\\\\\\\": 2, \\\\\\\\\\\\\"details\\\\\\\\\\\\\": {\\\\\\\\\\\\\"selectedColumn\\\\\\\\\\\\\": \\\\\\\\\\\\\"pH\\\\\\\\\\\\\"}}, \\\\\\\\\\\\\"typeProperty\\\\\\\\\\\\\": 3}, {\\\\\\\\\\\\\"column\\\\\\\\\\\\\": {\\\\\\\\\\\\\"type\\\\\\\\\\\\\": 2, \\\\\\\\\\\\\"details\\\\\\\\\\\\\": {\\\\\\\\\\\\\"selectedColumn\\\\\\\\\\\\\": \\\\\\\\\\\\\"sulphates\\\\\\\\\\\\\"}}, \\\\\\\\\\\\\"typeProperty\\\\\\\\\\\\\": 3}, {\\\\\\\\\\\\\"column\\\\\\\\\\\\\": {\\\\\\\\\\\\\"type\\\\\\\\\\\\\": 2, \\\\\\\\\\\\\"details\\\\\\\\\\\\\": {\\\\\\\\\\\\\"selectedColumn\\\\\\\\\\\\\": \\\\\\\\\\\\\"alcohol\\\\\\\\\\\\\"}}, \\\\\\\\\\\\\"typeProperty\\\\\\\\\\\\\": 3}, {\\\\\\\\\\\\\"column\\\\\\\\\\\\\": {\\\\\\\\\\\\\"type\\\\\\\\\\\\\": 2, \\\\\\\\\\\\\"details\\\\\\\\\\\\\": {\\\\\\\\\\\\\"selectedColumn\\\\\\\\\\\\\": \\\\\\\\\\\\\"target\\\\\\\\\\\\\"}}, \\\\\\\\\\\\\"typeProperty\\\\\\\\\\\\\": 2}]}, \\\\\\\\\\\\\"localData\\\\\\\\\\\\\": {}, \\\\\\\\\\\\\"isEnabled\\\\\\\\\\\\\": true, \\\\\\\\\\\\\"name\\\\\\\\\\\\\": null, \\\\\\\\\\\\\"annotation\\\\\\\\\\\\\": null}], \\\\\\\\\\\\\"inspectors\\\\\\\\\\\\\": [], \\\\\\\\\\\\\"meta\\\\\\\\\\\\\": {\\\\\\\\\\\\\"savedDatasetId\\\\\\\\\\\\\": \\\\\\\\\\\\\"242fd539-a946-4bae-be61-7ac8ccdf0169\\\\\\\\\\\\\", \\\\\\\\\\\\\"datasetType\\\\\\\\\\\\\": \\\\\\\\\\\\\"tabular\\\\\\\\\\\\\", \\\\\\\\\\\\\"subscriptionId\\\\\\\\\\\\\": \\\\\\\\\\\\\"1b944a9b-fdae-4f97-aeb1-b7eea0beac53\\\\\\\\\\\\\", \\\\\\\\\\\\\"workspaceId\\\\\\\\\\\\\": \\\\\\\\\\\\\"a064dfc8-3ed1-42fd-a27c-2c0d6e5664ef\\\\\\\\\\\\\", \\\\\\\\\\\\\"workspaceLocation\\\\\\\\\\\\\": \\\\\\\\\\\\\"southcentralus\\\\\\\\\\\\\"}}\\\\\", \\\\\"activities\\\\\": 0}',\n",
       "  'EnableSubsampling': None,\n",
       "  'runTemplate': 'AutoML',\n",
       "  'azureml.runsource': 'automl',\n",
       "  'display_task_type': 'regression',\n",
       "  'dependencies_versions': '{\"azureml-widgets\": \"1.20.0\", \"azureml-train\": \"1.20.0\", \"azureml-train-restclients-hyperdrive\": \"1.20.0\", \"azureml-train-core\": \"1.20.0\", \"azureml-train-automl\": \"1.20.0\", \"azureml-train-automl-runtime\": \"1.20.0\", \"azureml-train-automl-client\": \"1.20.0\", \"azureml-tensorboard\": \"1.20.0\", \"azureml-telemetry\": \"1.20.0\", \"azureml-sdk\": \"1.20.0\", \"azureml-samples\": \"0+unknown\", \"azureml-pipeline\": \"1.20.0\", \"azureml-pipeline-steps\": \"1.20.0\", \"azureml-pipeline-core\": \"1.20.0\", \"azureml-opendatasets\": \"1.20.0\", \"azureml-model-management-sdk\": \"1.0.1b6.post1\", \"azureml-mlflow\": \"1.20.0.post1\", \"azureml-interpret\": \"1.20.0\", \"azureml-explain-model\": \"1.20.0\", \"azureml-defaults\": \"1.20.0\", \"azureml-dataset-runtime\": \"1.20.0\", \"azureml-dataprep\": \"2.7.3\", \"azureml-dataprep-rslex\": \"1.5.0\", \"azureml-dataprep-native\": \"27.0.0\", \"azureml-datadrift\": \"1.20.0\", \"azureml-core\": \"1.20.0\", \"azureml-contrib-services\": \"1.20.0\", \"azureml-contrib-server\": \"1.20.0\", \"azureml-contrib-reinforcementlearning\": \"1.20.0\", \"azureml-contrib-pipeline-steps\": \"1.20.0\", \"azureml-contrib-notebook\": \"1.20.0\", \"azureml-contrib-interpret\": \"1.20.0\", \"azureml-contrib-gbdt\": \"1.20.0\", \"azureml-contrib-fairness\": \"1.20.0\", \"azureml-contrib-dataset\": \"1.20.0\", \"azureml-cli-common\": \"1.20.0\", \"azureml-automl-runtime\": \"1.20.0\", \"azureml-automl-core\": \"1.20.0\", \"azureml-accel-models\": \"1.20.0\"}',\n",
       "  '_aml_system_scenario_identification': 'Remote.Parent',\n",
       "  'ClientType': 'SDK',\n",
       "  'environment_cpu_name': 'AzureML-AutoML',\n",
       "  'environment_cpu_label': 'prod',\n",
       "  'environment_gpu_name': 'AzureML-AutoML-GPU',\n",
       "  'environment_gpu_label': 'prod',\n",
       "  'root_attribution': 'automl',\n",
       "  'attribution': 'AutoML',\n",
       "  'Orchestrator': 'AutoML',\n",
       "  'CancelUri': 'https://southcentralus.experiments.azureml.net/jasmine/v1.0/subscriptions/1b944a9b-fdae-4f97-aeb1-b7eea0beac53/resourceGroups/aml-quickstarts-138398/providers/Microsoft.MachineLearningServices/workspaces/quick-starts-ws-138398/experimentids/ea4af114-a339-492e-85c2-79c5112bce33/cancel/AutoML_09d54a55-51c6-499f-a116-05e9e7189e72',\n",
       "  'ClientSdkVersion': '1.21.0',\n",
       "  'snapshotId': '00000000-0000-0000-0000-000000000000',\n",
       "  'SetupRunId': 'AutoML_09d54a55-51c6-499f-a116-05e9e7189e72_setup',\n",
       "  'SetupRunContainerId': 'dcid.AutoML_09d54a55-51c6-499f-a116-05e9e7189e72_setup',\n",
       "  'FeaturizationRunJsonPath': 'featurizer_container.json',\n",
       "  'FeaturizationRunId': 'AutoML_09d54a55-51c6-499f-a116-05e9e7189e72_featurize',\n",
       "  'ProblemInfoJsonString': '{\"dataset_num_categorical\": 0, \"is_sparse\": false, \"subsampling\": false, \"dataset_classes\": 6, \"dataset_features\": 11, \"dataset_samples\": 1119, \"single_frequency_class_detected\": false}',\n",
       "  'ModelExplainRunId': 'AutoML_09d54a55-51c6-499f-a116-05e9e7189e72_ModelExplain'},\n",
       " 'inputDatasets': [{'dataset': {'id': '242fd539-a946-4bae-be61-7ac8ccdf0169'}, 'consumptionDetails': {'type': 'RunInput', 'inputName': 'training_data', 'mechanism': 'Direct'}}],\n",
       " 'outputDatasets': [],\n",
       " 'logFiles': {},\n",
       " 'submittedBy': 'ODL_User 138398'}"
      ]
     },
     "execution_count": 12,
     "metadata": {},
     "output_type": "execute_result"
    }
   ],
   "source": [
    "automl_run.wait_for_completion()"
   ]
  },
  {
   "cell_type": "markdown",
   "metadata": {},
   "source": [
    "## Best Model\n",
    "\n",
    "TODO: In the cell below, get the best model from the automl experiments and display all the properties of the model.\n",
    "\n"
   ]
  },
  {
   "cell_type": "code",
   "execution_count": 13,
   "metadata": {},
   "outputs": [
    {
     "name": "stdout",
     "output_type": "stream",
     "text": [
      "Best Run Id:  AutoML_09d54a55-51c6-499f-a116-05e9e7189e72_38\n"
     ]
    },
    {
     "data": {
      "text/plain": [
       "[('normalized_median_absolute_error', 0.064),\n",
       " ('median_absolute_error', 0.3199),\n",
       " ('r2_score', 0.4403),\n",
       " ('normalized_mean_absolute_error', 0.0895),\n",
       " ('mean_absolute_percentage_error', 8.2792),\n",
       " ('spearman_correlation', 0.6714),\n",
       " ('root_mean_squared_error', 0.6036),\n",
       " ('explained_variance', 0.4483),\n",
       " ('root_mean_squared_log_error', 0.094),\n",
       " ('mean_absolute_error', 0.4475),\n",
       " ('normalized_root_mean_squared_error', 0.1207),\n",
       " ('normalized_root_mean_squared_log_error', 0.1159),\n",
       " ('residuals',\n",
       "  'aml://artifactId/ExperimentRun/dcid.AutoML_09d54a55-51c6-499f-a116-05e9e7189e72_38/residuals'),\n",
       " ('predicted_true',\n",
       "  'aml://artifactId/ExperimentRun/dcid.AutoML_09d54a55-51c6-499f-a116-05e9e7189e72_38/predicted_true')]"
      ]
     },
     "execution_count": 13,
     "metadata": {},
     "output_type": "execute_result"
    }
   ],
   "source": [
    "# Retrieve and save your best automl model.\n",
    "automl_best_run = automl_run.get_best_child()\n",
    "automl_best_run_metrics = automl_best_run.get_metrics()\n",
    "\n",
    "print('Best Run Id: ', automl_best_run.id)\n",
    "[(k,round(v,4)) if type(v)!=str else (k,v) for k,v in automl_best_run_metrics.items()]"
   ]
  },
  {
   "cell_type": "code",
   "execution_count": 14,
   "metadata": {},
   "outputs": [],
   "source": [
    "model = automl_run.register_model(\n",
    "    description='Wine quality AutoML best model',\n",
    "    tags={'area': 'wine-quality'}\n",
    ")"
   ]
  },
  {
   "cell_type": "code",
   "execution_count": 15,
   "metadata": {},
   "outputs": [
    {
     "data": {
      "text/plain": [
       "'model.pkl'"
      ]
     },
     "execution_count": 15,
     "metadata": {},
     "output_type": "execute_result"
    }
   ],
   "source": [
    "model.download()"
   ]
  },
  {
   "cell_type": "code",
   "execution_count": 16,
   "metadata": {},
   "outputs": [],
   "source": [
    "local_model = joblib.load('model.pkl')"
   ]
  },
  {
   "cell_type": "code",
   "execution_count": 17,
   "metadata": {
    "scrolled": false
   },
   "outputs": [
    {
     "data": {
      "text/plain": [
       "{'estimators': [('0',\n",
       "   Pipeline(memory=None,\n",
       "            steps=[('maxabsscaler', MaxAbsScaler(copy=True)),\n",
       "                   ('lightgbmregressor',\n",
       "                    LightGBMRegressor(boosting_type='gbdt', class_weight=None,\n",
       "                                      colsample_bytree=1.0,\n",
       "                                      importance_type='split', learning_rate=0.1,\n",
       "                                      max_depth=-1, min_child_samples=20,\n",
       "                                      min_child_weight=0.001, min_split_gain=0.0,\n",
       "                                      n_estimators=100, n_jobs=1, num_leaves=31,\n",
       "                                      objective=None, random_state=None,\n",
       "                                      reg_alpha=0.0, reg_lambda=0.0, silent=True,\n",
       "                                      subsample=1.0, subsample_for_bin=200000,\n",
       "                                      subsample_freq=0, verbose=-1))],\n",
       "            verbose=False)),\n",
       "  ('34',\n",
       "   Pipeline(memory=None,\n",
       "            steps=[('standardscalerwrapper',\n",
       "                    <azureml.automl.runtime.shared.model_wrappers.StandardScalerWrapper object at 0x7f2f3c3184e0>),\n",
       "                   ('gradientboostingregressor',\n",
       "                    GradientBoostingRegressor(alpha=0.9, ccp_alpha=0.0,\n",
       "                                              criterion='friedman_mse', init=None,\n",
       "                                              learning_rate=0.046415888336127774,\n",
       "                                              loss='huber', max_depth=10,\n",
       "                                              max_features=0.8,\n",
       "                                              max_leaf_nodes=None,\n",
       "                                              min_impurity_decrease=0.0,\n",
       "                                              min_impurity_split=None,\n",
       "                                              min_samples_leaf=0.01321775243133542,\n",
       "                                              min_samples_split=0.0021800253234900498,\n",
       "                                              min_weight_fraction_leaf=0.0,\n",
       "                                              n_estimators=50,\n",
       "                                              n_iter_no_change=None,\n",
       "                                              presort='deprecated',\n",
       "                                              random_state=None, subsample=0.9,\n",
       "                                              tol=0.0001, validation_fraction=0.1,\n",
       "                                              verbose=0, warm_start=False))],\n",
       "            verbose=False)),\n",
       "  ('29',\n",
       "   Pipeline(memory=None,\n",
       "            steps=[('minmaxscaler', MinMaxScaler(copy=True, feature_range=(0, 1))),\n",
       "                   ('randomforestregressor',\n",
       "                    RandomForestRegressor(bootstrap=False, ccp_alpha=0.0,\n",
       "                                          criterion='mse', max_depth=None,\n",
       "                                          max_features=0.5, max_leaf_nodes=None,\n",
       "                                          max_samples=None,\n",
       "                                          min_impurity_decrease=0.0,\n",
       "                                          min_impurity_split=None,\n",
       "                                          min_samples_leaf=0.0023646822772690063,\n",
       "                                          min_samples_split=0.052853885930792446,\n",
       "                                          min_weight_fraction_leaf=0.0,\n",
       "                                          n_estimators=100, n_jobs=1,\n",
       "                                          oob_score=False, random_state=None,\n",
       "                                          verbose=0, warm_start=False))],\n",
       "            verbose=False)),\n",
       "  ('33',\n",
       "   Pipeline(memory=None,\n",
       "            steps=[('standardscalerwrapper',\n",
       "                    <azureml.automl.runtime.shared.model_wrappers.StandardScalerWrapper object at 0x7f2f3ba86f98>),\n",
       "                   ('randomforestregressor',\n",
       "                    RandomForestRegressor(bootstrap=False, ccp_alpha=0.0,\n",
       "                                          criterion='mse', max_depth=None,\n",
       "                                          max_features='sqrt', max_leaf_nodes=None,\n",
       "                                          max_samples=None,\n",
       "                                          min_impurity_decrease=0.0,\n",
       "                                          min_impurity_split=None,\n",
       "                                          min_samples_leaf=0.019375063213477914,\n",
       "                                          min_samples_split=0.00630957344480193,\n",
       "                                          min_weight_fraction_leaf=0.0,\n",
       "                                          n_estimators=25, n_jobs=1,\n",
       "                                          oob_score=False, random_state=None,\n",
       "                                          verbose=0, warm_start=False))],\n",
       "            verbose=False)),\n",
       "  ('32',\n",
       "   Pipeline(memory=None,\n",
       "            steps=[('robustscaler',\n",
       "                    RobustScaler(copy=True, quantile_range=[25, 75],\n",
       "                                 with_centering=False, with_scaling=False)),\n",
       "                   ('gradientboostingregressor',\n",
       "                    GradientBoostingRegressor(alpha=0.7000000000000001,\n",
       "                                              ccp_alpha=0.0, criterion='mse',\n",
       "                                              init=None,\n",
       "                                              learning_rate=0.021544346900318822,\n",
       "                                              loss='ls', max_depth=4,\n",
       "                                              max_features=0.2,\n",
       "                                              max_leaf_nodes=None,\n",
       "                                              min_impurity_decrease=0.0,\n",
       "                                              min_impurity_split=None,\n",
       "                                              min_samples_leaf=0.01321775243133542,\n",
       "                                              min_samples_split=0.001529732116091358,\n",
       "                                              min_weight_fraction_leaf=0.0,\n",
       "                                              n_estimators=600,\n",
       "                                              n_iter_no_change=None,\n",
       "                                              presort='deprecated',\n",
       "                                              random_state=None, subsample=0.1,\n",
       "                                              tol=0.0001, validation_fraction=0.1,\n",
       "                                              verbose=0, warm_start=False))],\n",
       "            verbose=False)),\n",
       "  ('26',\n",
       "   Pipeline(memory=None,\n",
       "            steps=[('robustscaler',\n",
       "                    RobustScaler(copy=True, quantile_range=[10, 90],\n",
       "                                 with_centering=True, with_scaling=False)),\n",
       "                   ('extratreesregressor',\n",
       "                    ExtraTreesRegressor(bootstrap=True, ccp_alpha=0.0,\n",
       "                                        criterion='mse', max_depth=None,\n",
       "                                        max_features=0.8, max_leaf_nodes=None,\n",
       "                                        max_samples=None,\n",
       "                                        min_impurity_decrease=0.0,\n",
       "                                        min_impurity_split=None,\n",
       "                                        min_samples_leaf=0.004196633747563344,\n",
       "                                        min_samples_split=0.018261584682702607,\n",
       "                                        min_weight_fraction_leaf=0.0,\n",
       "                                        n_estimators=25, n_jobs=1, oob_score=False,\n",
       "                                        random_state=None, verbose=0,\n",
       "                                        warm_start=False))],\n",
       "            verbose=False)),\n",
       "  ('3',\n",
       "   Pipeline(memory=None,\n",
       "            steps=[('robustscaler',\n",
       "                    RobustScaler(copy=True, quantile_range=[10, 90],\n",
       "                                 with_centering=True, with_scaling=False)),\n",
       "                   ('decisiontreeregressor',\n",
       "                    DecisionTreeRegressor(ccp_alpha=0.0, criterion='mse',\n",
       "                                          max_depth=None, max_features=0.9,\n",
       "                                          max_leaf_nodes=None,\n",
       "                                          min_impurity_decrease=0.0,\n",
       "                                          min_impurity_split=None,\n",
       "                                          min_samples_leaf=0.007594568292413517,\n",
       "                                          min_samples_split=0.0037087774117744725,\n",
       "                                          min_weight_fraction_leaf=0.0,\n",
       "                                          presort='deprecated', random_state=None,\n",
       "                                          splitter='best'))],\n",
       "            verbose=False)),\n",
       "  ('22',\n",
       "   Pipeline(memory=None,\n",
       "            steps=[('minmaxscaler', MinMaxScaler(copy=True, feature_range=(0, 1))),\n",
       "                   ('decisiontreeregressor',\n",
       "                    DecisionTreeRegressor(ccp_alpha=0.0, criterion='friedman_mse',\n",
       "                                          max_depth=None, max_features=None,\n",
       "                                          max_leaf_nodes=None,\n",
       "                                          min_impurity_decrease=0.0,\n",
       "                                          min_impurity_split=None,\n",
       "                                          min_samples_leaf=0.002742668396429022,\n",
       "                                          min_samples_split=0.026024633095283807,\n",
       "                                          min_weight_fraction_leaf=0.0,\n",
       "                                          presort='deprecated', random_state=None,\n",
       "                                          splitter='best'))],\n",
       "            verbose=False))],\n",
       " 'weights': [0.4666666666666667,\n",
       "  0.06666666666666667,\n",
       "  0.06666666666666667,\n",
       "  0.06666666666666667,\n",
       "  0.13333333333333333,\n",
       "  0.06666666666666667,\n",
       "  0.06666666666666667,\n",
       "  0.06666666666666667]}"
      ]
     },
     "execution_count": 17,
     "metadata": {},
     "output_type": "execute_result"
    }
   ],
   "source": [
    "local_model.steps[1][1].get_params()"
   ]
  },
  {
   "cell_type": "code",
   "execution_count": 18,
   "metadata": {},
   "outputs": [],
   "source": [
    "y_pred = local_model.predict(x_test)"
   ]
  },
  {
   "cell_type": "code",
   "execution_count": 19,
   "metadata": {},
   "outputs": [
    {
     "data": {
      "image/png": "[encoded data removed]",
      "text/plain": [
       "<Figure size 432x288 with 1 Axes>"
      ]
     },
     "metadata": {
      "needs_background": "light"
     },
     "output_type": "display_data"
    }
   ],
   "source": [
    "plt.scatter(y_test, y_test-y_pred)\n",
    "plt.title('Residual scatter plot')\n",
    "plt.xlabel('y_true')\n",
    "plt.ylabel('residual')\n",
    "plt.show()"
   ]
  },
  {
   "cell_type": "markdown",
   "metadata": {},
   "source": [
    "## Model Deployment"
   ]
  },
  {
   "cell_type": "code",
   "execution_count": 20,
   "metadata": {},
   "outputs": [],
   "source": [
    "env = Environment.get(workspace=ws, name='AzureML-AutoML')\n",
    "\n",
    "inference_config = InferenceConfig(\n",
    "    entry_script='score_automl.py',\n",
    "    environment=env\n",
    ")\n",
    "aci_config = AciWebservice.deploy_configuration(\n",
    "    cpu_cores=1,\n",
    "    memory_gb=1\n",
    ")"
   ]
  },
  {
   "cell_type": "code",
   "execution_count": 21,
   "metadata": {},
   "outputs": [],
   "source": [
    "service_name = 'wine-quality-predictor-aml'\n",
    "\n",
    "service = Model.deploy(\n",
    "    workspace=ws,\n",
    "    name=service_name,\n",
    "    models=[model],\n",
    "    inference_config=inference_config,\n",
    "    deployment_config=aci_config,\n",
    "    overwrite=True\n",
    ")"
   ]
  },
  {
   "cell_type": "code",
   "execution_count": 22,
   "metadata": {},
   "outputs": [
    {
     "name": "stdout",
     "output_type": "stream",
     "text": [
      "Tips: You can try get_logs(): https://aka.ms/debugimage#dockerlog or local deployment: https://aka.ms/debugimage#debug-locally to debug if deployment takes longer than 10 minutes.\n",
      "Running.....................................\n",
      "Succeeded\n",
      "ACI service creation operation finished, operation \"Succeeded\"\n",
      "State: Healthy\n",
      "Scoring URI: http://b7cd6463-b056-4b3a-859a-2e8ceb5e4423.southcentralus.azurecontainer.io/score\n"
     ]
    }
   ],
   "source": [
    "service.wait_for_deployment(show_output=True)\n",
    "print(\"State: \" + service.state)\n",
    "print(\"Scoring URI: \" + service.scoring_uri)"
   ]
  },
  {
   "cell_type": "markdown",
   "metadata": {
    "collapsed": true,
    "gather": {
     "logged": 1598431657736
    },
    "jupyter": {
     "outputs_hidden": false,
     "source_hidden": false
    },
    "nteract": {
     "transient": {
      "deleting": false
     }
    }
   },
   "source": [
    "Send a request to the deployed web service"
   ]
  },
  {
   "cell_type": "code",
   "execution_count": 23,
   "metadata": {},
   "outputs": [
    {
     "data": {
      "text/plain": [
       "(5, 12)"
      ]
     },
     "execution_count": 23,
     "metadata": {},
     "output_type": "execute_result"
    }
   ],
   "source": [
    "# select a few random rows from the test set to score\n",
    "random_data = df.sample(5, random_state=42).values\n",
    "random_data.shape"
   ]
  },
  {
   "cell_type": "code",
   "execution_count": 24,
   "metadata": {},
   "outputs": [
    {
     "name": "stdout",
     "output_type": "stream",
     "text": [
      "POST to url http://b7cd6463-b056-4b3a-859a-2e8ceb5e4423.southcentralus.azurecontainer.io/score\n",
      "input data: {\"data\": [[7.7, 0.56, 0.08, 2.5, 0.114, 14.0, 46.0, 0.9971, 3.24, 0.66, 9.6], [7.8, 0.5, 0.17, 1.6, 0.082, 21.0, 102.0, 0.996, 3.39, 0.48, 9.5], [10.7, 0.67, 0.22, 2.7, 0.107, 17.0, 34.0, 1.0004, 3.28, 0.98, 9.9], [8.5, 0.46, 0.31, 2.25, 0.078, 32.0, 58.0, 0.998, 3.33, 0.54, 9.8], [6.7, 0.46, 0.24, 1.7, 0.077, 18.0, 34.0, 0.9948, 3.39, 0.6, 10.6]]}\n",
      "label: [6.0, 5.0, 6.0, 5.0, 6.0]\n",
      "prediction: [5.35, 5.04, 5.19, 5.29, 5.91]\n"
     ]
    }
   ],
   "source": [
    "x_test_run = random_data[:,:-1].tolist()\n",
    "y_test_run = random_data[:,-1].tolist()\n",
    "\n",
    "input_data = \"{\\\"data\\\": \" + str(x_test_run) + \"}\"\n",
    "headers = {'Content-Type':'application/json'}\n",
    "\n",
    "resp = requests.post(service.scoring_uri, input_data, headers=headers)\n",
    "\n",
    "print(\"POST to url\", service.scoring_uri)\n",
    "print(\"input data:\", input_data)\n",
    "print(\"label:\", y_test_run)\n",
    "print(\"prediction:\", resp.text)"
   ]
  },
  {
   "cell_type": "code",
   "execution_count": 25,
   "metadata": {},
   "outputs": [
    {
     "data": {
      "text/plain": [
       "'2021-02-10 15:03:45'"
      ]
     },
     "execution_count": 25,
     "metadata": {},
     "output_type": "execute_result"
    }
   ],
   "source": [
    "time.strftime('%Y-%m-%d %H:%M:%S')"
   ]
  },
  {
   "cell_type": "markdown",
   "metadata": {
    "collapsed": true,
    "gather": {
     "logged": 1598432765711
    },
    "jupyter": {
     "outputs_hidden": false,
     "source_hidden": false
    },
    "nteract": {
     "transient": {
      "deleting": false
     }
    }
   },
   "source": [
    "TODO: In the cell below, print the logs of the web service and delete the service"
   ]
  },
  {
   "cell_type": "code",
   "execution_count": 26,
   "metadata": {
    "jupyter": {
     "outputs_hidden": false,
     "source_hidden": false
    },
    "nteract": {
     "transient": {
      "deleting": false
     }
    }
   },
   "outputs": [
    {
     "name": "stdout",
     "output_type": "stream",
     "text": [
      "2021-02-10T15:03:25,373777168+00:00 - nginx/run \n",
      "2021-02-10T15:03:25,373777468+00:00 - iot-server/run \n",
      "/usr/sbin/nginx: /azureml-envs/azureml_7ade26eb614f97df8030bc480da59236/lib/libcrypto.so.1.0.0: no version information available (required by /usr/sbin/nginx)\n",
      "/usr/sbin/nginx: /azureml-envs/azureml_7ade26eb614f97df8030bc480da59236/lib/libcrypto.so.1.0.0: no version information available (required by /usr/sbin/nginx)\n",
      "/usr/sbin/nginx: /azureml-envs/azureml_7ade26eb614f97df8030bc480da59236/lib/libssl.so.1.0.0: no version information available (required by /usr/sbin/nginx)\n",
      "/usr/sbin/nginx: /azureml-envs/azureml_7ade26eb614f97df8030bc480da59236/lib/libssl.so.1.0.0: no version information available (required by /usr/sbin/nginx)\n",
      "/usr/sbin/nginx: /azureml-envs/azureml_7ade26eb614f97df8030bc480da59236/lib/libssl.so.1.0.0: no version information available (required by /usr/sbin/nginx)\n",
      "2021-02-10T15:03:25,375284814+00:00 - rsyslog/run \n",
      "2021-02-10T15:03:25,373993375+00:00 - gunicorn/run \n",
      "rsyslogd: /azureml-envs/azureml_7ade26eb614f97df8030bc480da59236/lib/libuuid.so.1: no version information available (required by rsyslogd)\n",
      "EdgeHubConnectionString and IOTEDGE_IOTHUBHOSTNAME are not set. Exiting...\n",
      "2021-02-10T15:03:25,571769409+00:00 - iot-server/finish 1 0\n",
      "2021-02-10T15:03:25,573333157+00:00 - Exit code 1 is normal. Not restarting iot-server.\n",
      "Starting gunicorn 19.9.0\n",
      "Listening at: http://127.0.0.1:31311 (14)\n",
      "Using worker: sync\n",
      "worker timeout is set to 300\n",
      "Booting worker with pid: 42\n",
      "SPARK_HOME not set. Skipping PySpark Initialization.\n",
      "Generating new fontManager, this may take some time...\n",
      "Initializing logger\n",
      "2021-02-10 15:03:27,076 | root | INFO | Starting up app insights client\n",
      "2021-02-10 15:03:27,076 | root | INFO | Starting up request id generator\n",
      "2021-02-10 15:03:27,076 | root | INFO | Starting up app insight hooks\n",
      "2021-02-10 15:03:27,077 | root | INFO | Invoking user's init function\n",
      "2021-02-10 15:03:29,501 | root | INFO | Users's init has completed successfully\n",
      "/azureml-envs/azureml_7ade26eb614f97df8030bc480da59236/lib/python3.6/site-packages/sklearn/externals/joblib/__init__.py:15: FutureWarning: sklearn.externals.joblib is deprecated in 0.21 and will be removed in 0.23. Please import this functionality directly from joblib, which can be installed with: pip install joblib. If this warning is raised when loading pickled models, you may need to re-serialize those models with scikit-learn 0.21+.\n",
      "  warnings.warn(msg, category=FutureWarning)\n",
      "2021-02-10 15:03:29,503 | root | INFO | Skipping middleware: dbg_model_info as it's not enabled.\n",
      "2021-02-10 15:03:29,504 | root | INFO | Skipping middleware: dbg_resource_usage as it's not enabled.\n",
      "2021-02-10 15:03:29,505 | root | INFO | Scoring timeout is found from os.environ: 60000 ms\n",
      "2021-02-10 15:03:43,119 | root | INFO | Swagger file not present\n",
      "2021-02-10 15:03:43,120 | root | INFO | 404\n",
      "127.0.0.1 - - [10/Feb/2021:15:03:43 +0000] \"GET /swagger.json HTTP/1.0\" 404 19 \"-\" \"Go-http-client/1.1\"\n",
      "2021-02-10 15:03:45,009 | root | INFO | Swagger file not present\n",
      "2021-02-10 15:03:45,009 | root | INFO | 404\n",
      "127.0.0.1 - - [10/Feb/2021:15:03:45 +0000] \"GET /swagger.json HTTP/1.0\" 404 19 \"-\" \"Go-http-client/1.1\"\n",
      "2021-02-10 15:03:45,512 | root | INFO | Validation Request Content-Type\n",
      "2021-02-10 15:03:45,512 | root | INFO | Scoring Timer is set to 60.0 seconds\n",
      "2021-02-10 15:03:45,577 | root | INFO | 200\n",
      "127.0.0.1 - - [10/Feb/2021:15:03:45 +0000] \"POST /score HTTP/1.0\" 200 30 \"-\" \"python-requests/2.25.1\"\n",
      "2021-02-10 15:11:24,068 | root | INFO | Swagger file not present\n",
      "2021-02-10 15:11:24,068 | root | INFO | 404\n",
      "127.0.0.1 - - [10/Feb/2021:15:11:24 +0000] \"GET /swagger.json HTTP/1.0\" 404 19 \"-\" \"Go-http-client/1.1\"\n",
      "2021-02-10 15:11:51,759 | root | INFO | Validation Request Content-Type\n",
      "2021-02-10 15:11:51,760 | root | INFO | Scoring Timer is set to 60.0 seconds\n",
      "2021-02-10 15:11:51,867 | root | INFO | 200\n",
      "127.0.0.1 - - [10/Feb/2021:15:11:51 +0000] \"POST /score HTTP/1.0\" 200 30 \"-\" \"python-requests/2.23.0\"\n",
      "\n"
     ]
    }
   ],
   "source": [
    "logs = service.get_logs()\n",
    "for line in logs.split('\\n'):\n",
    "    print(line)"
   ]
  },
  {
   "cell_type": "code",
   "execution_count": 27,
   "metadata": {},
   "outputs": [
    {
     "name": "stdout",
     "output_type": "stream",
     "text": [
      "Current provisioning state of AmlCompute is \"Deleting\"\n",
      "\n",
      "Current provisioning state of AmlCompute is \"Deleting\"\n",
      "\n",
      "Current provisioning state of AmlCompute is \"Deleting\"\n",
      "\n",
      "Current provisioning state of AmlCompute is \"Deleting\"\n",
      "\n",
      "Current provisioning state of AmlCompute is \"Deleting\"\n",
      "\n",
      "Provisioning operation finished, operation \"Succeeded\"\n"
     ]
    }
   ],
   "source": [
    "try:\n",
    "    service.delete()\n",
    "    compute_target.delete()\n",
    "except:\n",
    "    print('Already deleted')\n",
    "else:\n",
    "    compute_target.wait_for_completion(show_output=False, is_delete_operation=True)"
   ]
  }
 ],
 "metadata": {
  "kernel_info": {
   "name": "python3"
  },
  "kernelspec": {
   "display_name": "Python 3",
   "language": "python",
   "name": "python3"
  },
  "language_info": {
   "codemirror_mode": {
    "name": "ipython",
    "version": 3
   },
   "file_extension": ".py",
   "mimetype": "text/x-python",
   "name": "python",
   "nbconvert_exporter": "python",
   "pygments_lexer": "ipython3",
   "version": "3.6.9"
  },
  "nteract": {
   "version": "nteract-front-end@1.0.0"
  }
 },
 "nbformat": 4,
 "nbformat_minor": 2
}
